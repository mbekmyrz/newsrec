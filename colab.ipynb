{
  "cells": [
    {
      "cell_type": "markdown",
      "metadata": {
        "id": "tKXbZ3RnQ3dK"
      },
      "source": [
        "# 1. Imports"
      ]
    },
    {
      "cell_type": "markdown",
      "metadata": {
        "id": "iLHqvBtQo0CP"
      },
      "source": [
        "#### Drive"
      ]
    },
    {
      "cell_type": "code",
      "execution_count": null,
      "metadata": {
        "colab": {
          "base_uri": "https://localhost:8080/"
        },
        "id": "R11G5qyv5OAL",
        "outputId": "e080099f-201f-483e-f9d6-d79ecf224e04"
      },
      "outputs": [
        {
          "output_type": "stream",
          "name": "stdout",
          "text": [
            "Mounted at /content/drive\n"
          ]
        }
      ],
      "source": [
        "from google.colab import drive\n",
        "drive.mount('/content/drive', force_remount=True)"
      ]
    },
    {
      "cell_type": "code",
      "source": [
        "import os\n",
        "os.chdir('/content/drive/MyDrive')  # change current dir to folder with datasets\n",
        "!ls                                 # datasets should be listed"
      ],
      "metadata": {
        "colab": {
          "base_uri": "https://localhost:8080/"
        },
        "id": "vQqPb9sxMV1B",
        "outputId": "1f78d4d9-40db-4e5a-f376-19ea17fbf03f"
      },
      "execution_count": null,
      "outputs": [
        {
          "output_type": "stream",
          "name": "stdout",
          "text": [
            "datasets  Storage\n"
          ]
        }
      ]
    },
    {
      "cell_type": "markdown",
      "metadata": {
        "id": "Ht-mz6xrWjSD"
      },
      "source": [
        "#### General"
      ]
    },
    {
      "cell_type": "code",
      "execution_count": null,
      "metadata": {
        "id": "AOe3Mo_LdoDr"
      },
      "outputs": [],
      "source": [
        "import torch\n",
        "import torch.nn as nn\n",
        "import torch.nn.functional as F\n",
        "from torch import Tensor"
      ]
    },
    {
      "cell_type": "code",
      "execution_count": null,
      "metadata": {
        "id": "oW73mTVyRr8B"
      },
      "outputs": [],
      "source": [
        "import tqdm\n",
        "import numpy as np\n",
        "import pandas as pd\n",
        "import matplotlib.pyplot as plt\n",
        "from sklearn.metrics import roc_auc_score, f1_score"
      ]
    },
    {
      "cell_type": "markdown",
      "metadata": {
        "id": "nN8ohWKDdVUB"
      },
      "source": [
        "#### PyG"
      ]
    },
    {
      "cell_type": "code",
      "execution_count": null,
      "metadata": {
        "colab": {
          "base_uri": "https://localhost:8080/"
        },
        "id": "Rrui7Blmdc-9",
        "outputId": "2be10639-f172-41e2-d24b-1816f3dec254"
      },
      "outputs": [
        {
          "output_type": "stream",
          "name": "stdout",
          "text": [
            "torch version: 2.0.0+cu118\n",
            "\u001b[2K     \u001b[90m━━━━━━━━━━━━━━━━━━━━━━━━━━━━━━━━━━━━━━━━\u001b[0m \u001b[32m10.2/10.2 MB\u001b[0m \u001b[31m9.2 MB/s\u001b[0m eta \u001b[36m0:00:00\u001b[0m\n",
            "\u001b[2K     \u001b[90m━━━━━━━━━━━━━━━━━━━━━━━━━━━━━━━━━━━━━━━━\u001b[0m \u001b[32m4.8/4.8 MB\u001b[0m \u001b[31m11.3 MB/s\u001b[0m eta \u001b[36m0:00:00\u001b[0m\n",
            "\u001b[?25h  Installing build dependencies ... \u001b[?25l\u001b[?25hdone\n",
            "  Getting requirements to build wheel ... \u001b[?25l\u001b[?25hdone\n",
            "  Preparing metadata (pyproject.toml) ... \u001b[?25l\u001b[?25hdone\n",
            "  Building wheel for torch_geometric (pyproject.toml) ... \u001b[?25l\u001b[?25hdone\n"
          ]
        }
      ],
      "source": [
        "os.environ['TORCH'] = torch.__version__\n",
        "print('torch version:', torch.__version__)\n",
        "\n",
        "!pip3 install -q torch-scatter -f https://data.pyg.org/whl/torch-${TORCH}.html\n",
        "!pip3 install -q torch-sparse -f https://data.pyg.org/whl/torch-${TORCH}.html\n",
        "!pip3 install -q git+https://github.com/pyg-team/pytorch_geometric.git"
      ]
    },
    {
      "cell_type": "code",
      "execution_count": null,
      "metadata": {
        "id": "l6u21fjFRCkw"
      },
      "outputs": [],
      "source": [
        "from torch_geometric.nn import GCNConv, GATConv, SAGEConv, to_hetero\n",
        "from torch_geometric.data import Data, HeteroData\n",
        "from torch_geometric.utils import negative_sampling\n",
        "from torch_geometric.loader import LinkNeighborLoader\n",
        "import torch_geometric.transforms as T"
      ]
    },
    {
      "cell_type": "markdown",
      "metadata": {
        "id": "76KthyI_dkg5"
      },
      "source": [
        "#### Transformers"
      ]
    },
    {
      "cell_type": "code",
      "execution_count": null,
      "metadata": {
        "colab": {
          "base_uri": "https://localhost:8080/"
        },
        "id": "vJu3pORBRp4Q",
        "outputId": "fb4cb2ff-878f-434c-e697-58378deb5db8"
      },
      "outputs": [
        {
          "output_type": "stream",
          "name": "stdout",
          "text": [
            "\u001b[2K     \u001b[90m━━━━━━━━━━━━━━━━━━━━━━━━━━━━━━━━━━━━━━━━\u001b[0m \u001b[32m7.0/7.0 MB\u001b[0m \u001b[31m49.5 MB/s\u001b[0m eta \u001b[36m0:00:00\u001b[0m\n",
            "\u001b[2K     \u001b[90m━━━━━━━━━━━━━━━━━━━━━━━━━━━━━━━━━━━━━━\u001b[0m \u001b[32m224.5/224.5 kB\u001b[0m \u001b[31m19.6 MB/s\u001b[0m eta \u001b[36m0:00:00\u001b[0m\n",
            "\u001b[2K     \u001b[90m━━━━━━━━━━━━━━━━━━━━━━━━━━━━━━━━━━━━━━━━\u001b[0m \u001b[32m7.8/7.8 MB\u001b[0m \u001b[31m59.5 MB/s\u001b[0m eta \u001b[36m0:00:00\u001b[0m\n",
            "\u001b[?25h"
          ]
        }
      ],
      "source": [
        "!pip3 install -q transformers"
      ]
    },
    {
      "cell_type": "code",
      "execution_count": null,
      "metadata": {
        "id": "wO4qkpeERrAm"
      },
      "outputs": [],
      "source": [
        "from transformers import BertTokenizer, BertModel, AutoModel, AutoTokenizer"
      ]
    },
    {
      "cell_type": "markdown",
      "metadata": {
        "id": "LJkOBeTAh_rI"
      },
      "source": [
        "### Device"
      ]
    },
    {
      "cell_type": "code",
      "execution_count": null,
      "metadata": {
        "colab": {
          "base_uri": "https://localhost:8080/"
        },
        "id": "3J46FKzrh9-O",
        "outputId": "31345b3b-a6f3-4705-dc7b-662d13856401"
      },
      "outputs": [
        {
          "output_type": "stream",
          "name": "stdout",
          "text": [
            "device: cpu\n"
          ]
        }
      ],
      "source": [
        "device = torch.device('cuda:0' if torch.cuda.is_available() else 'cpu')\n",
        "print('device:', device)"
      ]
    },
    {
      "cell_type": "markdown",
      "metadata": {
        "id": "IViafCqFV30_"
      },
      "source": [
        "# 2. Dataframes"
      ]
    },
    {
      "cell_type": "code",
      "execution_count": null,
      "metadata": {
        "id": "ReV5eOfnfcPW"
      },
      "outputs": [],
      "source": [
        "def get_users_and_items(users_csv, items_csv, user_naming, item_naming):\n",
        "    df_users = pd.read_csv(users_csv)\n",
        "    print('users\\n===========')\n",
        "    print('users shape:', df_users.shape)\n",
        "    print('unique users:', len(df_users[user_naming].unique()))\n",
        "    print('unique articles:', len(df_users[item_naming].unique()))\n",
        "    print(df_users.head())\n",
        "    print()\n",
        "\n",
        "    df_items = pd.read_csv(items_csv)\n",
        "    print('items\\n===========')\n",
        "    print('items shape:', df_items.shape)\n",
        "    print('unique articles:', len(df_items[item_naming].unique()))\n",
        "    print(df_items.head())\n",
        "    print()\n",
        "\n",
        "    print('article set is same in two files:', set(df_users[item_naming].unique()) == set(df_items[item_naming].unique()))\n",
        "    assert set(df_users[item_naming].unique()) == set(df_items[item_naming].unique())\n",
        "    assert df_items.shape[0] == df_items[item_naming].nunique()\n",
        "    \n",
        "    return df_users, df_items"
      ]
    },
    {
      "cell_type": "markdown",
      "source": [
        "Select one of the below datasets and run its cell."
      ],
      "metadata": {
        "id": "jEqGIf8QNhzb"
      }
    },
    {
      "cell_type": "markdown",
      "metadata": {
        "id": "N90-Vmt3kRQo"
      },
      "source": [
        "## Adressa"
      ]
    },
    {
      "cell_type": "markdown",
      "metadata": {
        "id": "pyRzWXaPXX5z"
      },
      "source": [
        "### Adressa Norwegian nbBert"
      ]
    },
    {
      "cell_type": "code",
      "execution_count": null,
      "metadata": {
        "colab": {
          "base_uri": "https://localhost:8080/"
        },
        "id": "c9SNqgHlgT-0",
        "outputId": "12f2371c-97ab-4252-cfa3-31426ba2d7b2"
      },
      "outputs": [
        {
          "output_type": "stream",
          "name": "stdout",
          "text": [
            "users\n",
            "===========\n",
            "users shape: (1857389, 2)\n",
            "unique users: 535259\n",
            "unique articles: 15721\n",
            "                                              userId  \\\n",
            "0  cx:0049d95b7c3a854f8c1edb0a13197e71:1zqfs7vo2seov   \n",
            "1  cx:0049d95b7c3a854f8c1edb0a13197e71:1zqfs7vo2seov   \n",
            "2  cx:0049d95b7c3a854f8c1edb0a13197e71:1zqfs7vo2seov   \n",
            "3  cx:0049d95b7c3a854f8c1edb0a13197e71:1zqfs7vo2seov   \n",
            "4  cx:0049d95b7c3a854f8c1edb0a13197e71:1zqfs7vo2seov   \n",
            "\n",
            "                                         id  \n",
            "0  01c74ff7ec02862bed5f861cba7e7226dfd31beb  \n",
            "1  2228c8e09bd615b509f87347675f4f0f1b74439e  \n",
            "2  265d0e347e08d19ab62ffe4eadd0333eaad6e57c  \n",
            "3  3011c1cce4999e3c4e02bd887468d1d1d90b7807  \n",
            "4  44d3e6498035638f2e1c0580332b67e0d71af45c  \n",
            "\n",
            "items\n",
            "===========\n",
            "items shape: (15721, 2)\n",
            "unique articles: 15721\n",
            "                                         id  \\\n",
            "0  6a0612e60690288a776834811004ce133f326cee   \n",
            "1  b40a30877124510cf65683b6c9391d927e20f89d   \n",
            "2  29b7afc1d16d34b639597cab200c9c4c96e2b69e   \n",
            "3  e6877439db8ca3bde8be8f6edb741fcc22c2772c   \n",
            "4  a30fec2f3e9f2e408a26d179125f322062fa6252   \n",
            "\n",
            "                                             title  \n",
            "0              - Historiene er nesten for utrolige  \n",
            "1                              Fyll på med småbord  \n",
            "2        - Vi har ingen planer om å erstatte Blæst  \n",
            "3  Forsøker å selge hjemmebrentapparat på Facebook  \n",
            "4        Gjør et midtvinterskupp til varmere strøk  \n",
            "\n",
            "article set is same in two files: True\n",
            "feature tensor: torch.Size([15721, 768])\n"
          ]
        }
      ],
      "source": [
        "fusers = 'datasets/adressa/impressions/common_user_item.csv'\n",
        "fitems = 'datasets/adressa/content/read_articles.csv'\n",
        "user_naming, item_naming = 'userId', 'id'\n",
        "df_users, df_items = get_users_and_items(fusers, fitems, user_naming, item_naming)\n",
        "\n",
        "ffeat_items = 'datasets/adressa/content/feat_tensor_no_nbbert.pt'\n",
        "feature_tensor = torch.load(ffeat_items, map_location=device)\n",
        "print('feature tensor:', feature_tensor.shape)\n",
        "assert feature_tensor.shape[0] == df_users[item_naming].nunique()"
      ]
    },
    {
      "cell_type": "markdown",
      "metadata": {
        "id": "PDt4nn1XjHwH"
      },
      "source": [
        "### Adressa Norwegian mBert"
      ]
    },
    {
      "cell_type": "code",
      "execution_count": null,
      "metadata": {
        "colab": {
          "base_uri": "https://localhost:8080/"
        },
        "id": "zbe7dZ9qjRgq",
        "outputId": "0a7d9761-1208-42a5-c6a4-998b097059fc"
      },
      "outputs": [
        {
          "output_type": "stream",
          "name": "stdout",
          "text": [
            "users\n",
            "===========\n",
            "users shape: (1857389, 2)\n",
            "unique users: 535259\n",
            "unique articles: 15721\n",
            "                                              userId  \\\n",
            "0  cx:0049d95b7c3a854f8c1edb0a13197e71:1zqfs7vo2seov   \n",
            "1  cx:0049d95b7c3a854f8c1edb0a13197e71:1zqfs7vo2seov   \n",
            "2  cx:0049d95b7c3a854f8c1edb0a13197e71:1zqfs7vo2seov   \n",
            "3  cx:0049d95b7c3a854f8c1edb0a13197e71:1zqfs7vo2seov   \n",
            "4  cx:0049d95b7c3a854f8c1edb0a13197e71:1zqfs7vo2seov   \n",
            "\n",
            "                                         id  \n",
            "0  01c74ff7ec02862bed5f861cba7e7226dfd31beb  \n",
            "1  2228c8e09bd615b509f87347675f4f0f1b74439e  \n",
            "2  265d0e347e08d19ab62ffe4eadd0333eaad6e57c  \n",
            "3  3011c1cce4999e3c4e02bd887468d1d1d90b7807  \n",
            "4  44d3e6498035638f2e1c0580332b67e0d71af45c  \n",
            "\n",
            "items\n",
            "===========\n",
            "items shape: (15721, 2)\n",
            "unique articles: 15721\n",
            "                                         id  \\\n",
            "0  6a0612e60690288a776834811004ce133f326cee   \n",
            "1  b40a30877124510cf65683b6c9391d927e20f89d   \n",
            "2  29b7afc1d16d34b639597cab200c9c4c96e2b69e   \n",
            "3  e6877439db8ca3bde8be8f6edb741fcc22c2772c   \n",
            "4  a30fec2f3e9f2e408a26d179125f322062fa6252   \n",
            "\n",
            "                                             title  \n",
            "0              - Historiene er nesten for utrolige  \n",
            "1                              Fyll på med småbord  \n",
            "2        - Vi har ingen planer om å erstatte Blæst  \n",
            "3  Forsøker å selge hjemmebrentapparat på Facebook  \n",
            "4        Gjør et midtvinterskupp til varmere strøk  \n",
            "\n",
            "article set is same in two files: True\n",
            "feature tensor: torch.Size([15721, 768])\n"
          ]
        }
      ],
      "source": [
        "fusers = 'datasets/adressa/impressions/common_user_item.csv'\n",
        "fitems = 'datasets/adressa/content/read_articles.csv'\n",
        "user_naming, item_naming = 'userId', 'id'\n",
        "df_users, df_items = get_users_and_items(fusers, fitems, user_naming, item_naming)\n",
        "\n",
        "ffeat_items = 'datasets/adressa/content/feat_tensor_no_mbert.pt'\n",
        "feature_tensor = torch.load(ffeat_items, map_location=device)\n",
        "print('feature tensor:', feature_tensor.shape)\n",
        "assert feature_tensor.shape[0] == df_users[item_naming].nunique()"
      ]
    },
    {
      "cell_type": "markdown",
      "metadata": {
        "id": "r_2X77cujO4q"
      },
      "source": [
        "### Adressa Norwegian xlm"
      ]
    },
    {
      "cell_type": "code",
      "execution_count": null,
      "metadata": {
        "colab": {
          "base_uri": "https://localhost:8080/"
        },
        "id": "4AZc1w-VjSR1",
        "outputId": "a468607f-529a-46fb-f016-732e3cae8f0b"
      },
      "outputs": [
        {
          "output_type": "stream",
          "name": "stdout",
          "text": [
            "users\n",
            "===========\n",
            "users shape: (1857389, 2)\n",
            "unique users: 535259\n",
            "unique articles: 15721\n",
            "                                              userId  \\\n",
            "0  cx:0049d95b7c3a854f8c1edb0a13197e71:1zqfs7vo2seov   \n",
            "1  cx:0049d95b7c3a854f8c1edb0a13197e71:1zqfs7vo2seov   \n",
            "2  cx:0049d95b7c3a854f8c1edb0a13197e71:1zqfs7vo2seov   \n",
            "3  cx:0049d95b7c3a854f8c1edb0a13197e71:1zqfs7vo2seov   \n",
            "4  cx:0049d95b7c3a854f8c1edb0a13197e71:1zqfs7vo2seov   \n",
            "\n",
            "                                         id  \n",
            "0  01c74ff7ec02862bed5f861cba7e7226dfd31beb  \n",
            "1  2228c8e09bd615b509f87347675f4f0f1b74439e  \n",
            "2  265d0e347e08d19ab62ffe4eadd0333eaad6e57c  \n",
            "3  3011c1cce4999e3c4e02bd887468d1d1d90b7807  \n",
            "4  44d3e6498035638f2e1c0580332b67e0d71af45c  \n",
            "\n",
            "items\n",
            "===========\n",
            "items shape: (15721, 2)\n",
            "unique articles: 15721\n",
            "                                         id  \\\n",
            "0  6a0612e60690288a776834811004ce133f326cee   \n",
            "1  b40a30877124510cf65683b6c9391d927e20f89d   \n",
            "2  29b7afc1d16d34b639597cab200c9c4c96e2b69e   \n",
            "3  e6877439db8ca3bde8be8f6edb741fcc22c2772c   \n",
            "4  a30fec2f3e9f2e408a26d179125f322062fa6252   \n",
            "\n",
            "                                             title  \n",
            "0              - Historiene er nesten for utrolige  \n",
            "1                              Fyll på med småbord  \n",
            "2        - Vi har ingen planer om å erstatte Blæst  \n",
            "3  Forsøker å selge hjemmebrentapparat på Facebook  \n",
            "4        Gjør et midtvinterskupp til varmere strøk  \n",
            "\n",
            "article set is same in two files: True\n",
            "feature tensor: torch.Size([15721, 768])\n"
          ]
        }
      ],
      "source": [
        "fusers = 'datasets/adressa/impressions/common_user_item.csv'\n",
        "fitems = 'datasets/adressa/content/read_articles.csv'\n",
        "user_naming, item_naming = 'userId', 'id'\n",
        "df_users, df_items = get_users_and_items(fusers, fitems, user_naming, item_naming)\n",
        "\n",
        "ffeat_items = 'datasets/adressa/content/feat_tensor_no_xlm.pt'\n",
        "feature_tensor = torch.load(ffeat_items, map_location=device)\n",
        "print('feature tensor:', feature_tensor.shape)\n",
        "assert feature_tensor.shape[0] == df_users[item_naming].nunique()"
      ]
    },
    {
      "cell_type": "markdown",
      "metadata": {
        "id": "jpujvRk1Xh6_"
      },
      "source": [
        "### Adressa Norwegian translated to English enBert"
      ]
    },
    {
      "cell_type": "code",
      "execution_count": null,
      "metadata": {
        "colab": {
          "base_uri": "https://localhost:8080/"
        },
        "id": "_jTxNWmbXjyO",
        "outputId": "ee4a04a7-289a-435b-e53a-84cd5d95c8d2"
      },
      "outputs": [
        {
          "output_type": "stream",
          "name": "stdout",
          "text": [
            "users\n",
            "===========\n",
            "users shape: (1857389, 2)\n",
            "unique users: 535259\n",
            "unique articles: 15721\n",
            "                                              userId  \\\n",
            "0  cx:0049d95b7c3a854f8c1edb0a13197e71:1zqfs7vo2seov   \n",
            "1  cx:0049d95b7c3a854f8c1edb0a13197e71:1zqfs7vo2seov   \n",
            "2  cx:0049d95b7c3a854f8c1edb0a13197e71:1zqfs7vo2seov   \n",
            "3  cx:0049d95b7c3a854f8c1edb0a13197e71:1zqfs7vo2seov   \n",
            "4  cx:0049d95b7c3a854f8c1edb0a13197e71:1zqfs7vo2seov   \n",
            "\n",
            "                                         id  \n",
            "0  01c74ff7ec02862bed5f861cba7e7226dfd31beb  \n",
            "1  2228c8e09bd615b509f87347675f4f0f1b74439e  \n",
            "2  265d0e347e08d19ab62ffe4eadd0333eaad6e57c  \n",
            "3  3011c1cce4999e3c4e02bd887468d1d1d90b7807  \n",
            "4  44d3e6498035638f2e1c0580332b67e0d71af45c  \n",
            "\n",
            "items\n",
            "===========\n",
            "items shape: (15721, 2)\n",
            "unique articles: 15721\n",
            "                                         id  \\\n",
            "0  6a0612e60690288a776834811004ce133f326cee   \n",
            "1  b40a30877124510cf65683b6c9391d927e20f89d   \n",
            "2  29b7afc1d16d34b639597cab200c9c4c96e2b69e   \n",
            "3  e6877439db8ca3bde8be8f6edb741fcc22c2772c   \n",
            "4  a30fec2f3e9f2e408a26d179125f322062fa6252   \n",
            "\n",
            "                                               title  \n",
            "0            The stories are almost too unbelievable  \n",
            "1                           Top up with small tables  \n",
            "2               - We have no plans to replace BlÃ«st  \n",
            "3  Trying to sell home combustion equipment on Fa...  \n",
            "4         Make a mid-winter bargain for warmer coats  \n",
            "\n",
            "article set is same in two files: True\n",
            "feature tensor: torch.Size([15721, 768])\n"
          ]
        }
      ],
      "source": [
        "fusers = 'datasets/adressa/impressions/common_user_item.csv'\n",
        "fitems = 'datasets/adressa/content/read_artciles_tr.csv'\n",
        "user_naming, item_naming = 'userId', 'id'\n",
        "df_users, df_items = get_users_and_items(fusers, fitems, user_naming, item_naming)\n",
        "\n",
        "ffeat_items = 'datasets/adressa/content/feat_tensor_tr_enbert.pt'\n",
        "feature_tensor = torch.load(ffeat_items, map_location=device)\n",
        "print('feature tensor:', feature_tensor.shape)\n",
        "assert feature_tensor.shape[0] == df_users[item_naming].nunique()"
      ]
    },
    {
      "cell_type": "markdown",
      "metadata": {
        "id": "aNZEZ4qYkVfZ"
      },
      "source": [
        "## CIT"
      ]
    },
    {
      "cell_type": "markdown",
      "metadata": {
        "id": "e76wvRVnXZ0g"
      },
      "source": [
        "### CIT Portuguese ptBert"
      ]
    },
    {
      "cell_type": "code",
      "execution_count": null,
      "metadata": {
        "colab": {
          "base_uri": "https://localhost:8080/"
        },
        "id": "UUEe_JiFXbzY",
        "outputId": "c61ce0af-b8a9-40a7-9f0d-fa8c9c94716e"
      },
      "outputs": [
        {
          "output_type": "stream",
          "name": "stdout",
          "text": [
            "users\n",
            "===========\n",
            "users shape: (14417, 4)\n",
            "unique users: 1619\n",
            "unique articles: 821\n",
            "             contentId             personId  \\\n",
            "0   310515487419366995 -1130272294246983140   \n",
            "1   310515487419366995   344280948527967603   \n",
            "2   310515487419366995 -8763398617720485024   \n",
            "3 -8864073373672512525  3609194402293569455   \n",
            "4   310515487419366995  3609194402293569455   \n",
            "\n",
            "                                                 url lang  \n",
            "0  http://blog.runrun.it/erros-de-portugues-em-e-...   pt  \n",
            "1  http://blog.runrun.it/erros-de-portugues-em-e-...   pt  \n",
            "2  http://blog.runrun.it/erros-de-portugues-em-e-...   pt  \n",
            "3  http://www.startupsstars.com/2016/06/video-int...   pt  \n",
            "4  http://blog.runrun.it/erros-de-portugues-em-e-...   pt  \n",
            "\n",
            "items\n",
            "===========\n",
            "items shape: (821, 4)\n",
            "unique articles: 821\n",
            "             contentId                                              title  \\\n",
            "0 -9157338616628196758  Situação financeira ruim de varejistas pressio...   \n",
            "1 -5917314377186856799  Artigos e Palestras - Programa Agricultura de ...   \n",
            "2  6157037646878010131                    Rede Agricultura de Precisão II   \n",
            "3 -1672166631728511207           O potencial do bitcoin na América Latina   \n",
            "4  5714314286511882372  Como Startups e Grandes Empresas podem colabor...   \n",
            "\n",
            "                                                 url lang  \n",
            "0  http://economia.ig.com.br/2016-03-27/situacao-...   pt  \n",
            "1  http://www.senar.org.br/agricultura-precisao/a...   pt  \n",
            "2  https://www.macroprograma1.cnptia.embrapa.br/r...   pt  \n",
            "3  https://www.coinbr.net/blog/america-latina-apr...   pt  \n",
            "4  https://www.sympla.com.br/como-startups-e-gran...   pt  \n",
            "\n",
            "article set is same in two files: True\n",
            "feature tensor: torch.Size([821, 768])\n"
          ]
        }
      ],
      "source": [
        "fusers = 'datasets/cit/common_user_item_pt.csv'\n",
        "fitems = 'datasets/cit/read_articles_pt.csv'\n",
        "user_naming, item_naming = 'personId', 'contentId'\n",
        "df_users, df_items = get_users_and_items(fusers, fitems, user_naming, item_naming)\n",
        "\n",
        "ffeat_items = 'datasets/cit/feat_tensor_pt_ptbert.pt'\n",
        "feature_tensor = torch.load(ffeat_items, map_location=device)\n",
        "print('feature tensor:', feature_tensor.shape)\n",
        "assert feature_tensor.shape[0] == df_users[item_naming].nunique()"
      ]
    },
    {
      "cell_type": "markdown",
      "metadata": {
        "id": "aD9WmCpPktj2"
      },
      "source": [
        "### CIT Portuguese mBert"
      ]
    },
    {
      "cell_type": "code",
      "execution_count": null,
      "metadata": {
        "colab": {
          "base_uri": "https://localhost:8080/"
        },
        "id": "4-np4idzk-PH",
        "outputId": "a3695eb1-a2dc-48d1-aedf-4675c44cf11d"
      },
      "outputs": [
        {
          "output_type": "stream",
          "name": "stdout",
          "text": [
            "users\n",
            "===========\n",
            "users shape: (14417, 4)\n",
            "unique users: 1619\n",
            "unique articles: 821\n",
            "             contentId             personId  \\\n",
            "0   310515487419366995 -1130272294246983140   \n",
            "1   310515487419366995   344280948527967603   \n",
            "2   310515487419366995 -8763398617720485024   \n",
            "3 -8864073373672512525  3609194402293569455   \n",
            "4   310515487419366995  3609194402293569455   \n",
            "\n",
            "                                                 url lang  \n",
            "0  http://blog.runrun.it/erros-de-portugues-em-e-...   pt  \n",
            "1  http://blog.runrun.it/erros-de-portugues-em-e-...   pt  \n",
            "2  http://blog.runrun.it/erros-de-portugues-em-e-...   pt  \n",
            "3  http://www.startupsstars.com/2016/06/video-int...   pt  \n",
            "4  http://blog.runrun.it/erros-de-portugues-em-e-...   pt  \n",
            "\n",
            "items\n",
            "===========\n",
            "items shape: (821, 4)\n",
            "unique articles: 821\n",
            "             contentId                                              title  \\\n",
            "0 -9157338616628196758  Situação financeira ruim de varejistas pressio...   \n",
            "1 -5917314377186856799  Artigos e Palestras - Programa Agricultura de ...   \n",
            "2  6157037646878010131                    Rede Agricultura de Precisão II   \n",
            "3 -1672166631728511207           O potencial do bitcoin na América Latina   \n",
            "4  5714314286511882372  Como Startups e Grandes Empresas podem colabor...   \n",
            "\n",
            "                                                 url lang  \n",
            "0  http://economia.ig.com.br/2016-03-27/situacao-...   pt  \n",
            "1  http://www.senar.org.br/agricultura-precisao/a...   pt  \n",
            "2  https://www.macroprograma1.cnptia.embrapa.br/r...   pt  \n",
            "3  https://www.coinbr.net/blog/america-latina-apr...   pt  \n",
            "4  https://www.sympla.com.br/como-startups-e-gran...   pt  \n",
            "\n",
            "article set is same in two files: True\n",
            "feature tensor: torch.Size([821, 768])\n"
          ]
        }
      ],
      "source": [
        "fusers = 'datasets/cit/common_user_item_pt.csv'\n",
        "fitems = 'datasets/cit/read_articles_pt.csv'\n",
        "user_naming, item_naming = 'personId', 'contentId'\n",
        "df_users, df_items = get_users_and_items(fusers, fitems, user_naming, item_naming)\n",
        "\n",
        "ffeat_items = 'datasets/cit/feat_tensor_pt_mbert.pt'\n",
        "feature_tensor = torch.load(ffeat_items, map_location=device)\n",
        "print('feature tensor:', feature_tensor.shape)\n",
        "assert feature_tensor.shape[0] == df_users[item_naming].nunique()"
      ]
    },
    {
      "cell_type": "markdown",
      "metadata": {
        "id": "DcZnnYzQkwG7"
      },
      "source": [
        "### CIT Portuguese xlm"
      ]
    },
    {
      "cell_type": "code",
      "execution_count": null,
      "metadata": {
        "colab": {
          "base_uri": "https://localhost:8080/"
        },
        "id": "-fEBo2Lmk-nE",
        "outputId": "f2e6509d-be3b-4eb5-ceee-59df3ed78868"
      },
      "outputs": [
        {
          "output_type": "stream",
          "name": "stdout",
          "text": [
            "users\n",
            "===========\n",
            "users shape: (14417, 4)\n",
            "unique users: 1619\n",
            "unique articles: 821\n",
            "             contentId             personId  \\\n",
            "0   310515487419366995 -1130272294246983140   \n",
            "1   310515487419366995   344280948527967603   \n",
            "2   310515487419366995 -8763398617720485024   \n",
            "3 -8864073373672512525  3609194402293569455   \n",
            "4   310515487419366995  3609194402293569455   \n",
            "\n",
            "                                                 url lang  \n",
            "0  http://blog.runrun.it/erros-de-portugues-em-e-...   pt  \n",
            "1  http://blog.runrun.it/erros-de-portugues-em-e-...   pt  \n",
            "2  http://blog.runrun.it/erros-de-portugues-em-e-...   pt  \n",
            "3  http://www.startupsstars.com/2016/06/video-int...   pt  \n",
            "4  http://blog.runrun.it/erros-de-portugues-em-e-...   pt  \n",
            "\n",
            "items\n",
            "===========\n",
            "items shape: (821, 4)\n",
            "unique articles: 821\n",
            "             contentId                                              title  \\\n",
            "0 -9157338616628196758  Situação financeira ruim de varejistas pressio...   \n",
            "1 -5917314377186856799  Artigos e Palestras - Programa Agricultura de ...   \n",
            "2  6157037646878010131                    Rede Agricultura de Precisão II   \n",
            "3 -1672166631728511207           O potencial do bitcoin na América Latina   \n",
            "4  5714314286511882372  Como Startups e Grandes Empresas podem colabor...   \n",
            "\n",
            "                                                 url lang  \n",
            "0  http://economia.ig.com.br/2016-03-27/situacao-...   pt  \n",
            "1  http://www.senar.org.br/agricultura-precisao/a...   pt  \n",
            "2  https://www.macroprograma1.cnptia.embrapa.br/r...   pt  \n",
            "3  https://www.coinbr.net/blog/america-latina-apr...   pt  \n",
            "4  https://www.sympla.com.br/como-startups-e-gran...   pt  \n",
            "\n",
            "article set is same in two files: True\n",
            "feature tensor: torch.Size([821, 768])\n"
          ]
        }
      ],
      "source": [
        "fusers = 'datasets/cit/common_user_item_pt.csv'\n",
        "fitems = 'datasets/cit/read_articles_pt.csv'\n",
        "user_naming, item_naming = 'personId', 'contentId'\n",
        "df_users, df_items = get_users_and_items(fusers, fitems, user_naming, item_naming)\n",
        "\n",
        "ffeat_items = 'datasets/cit/feat_tensor_pt_xlm.pt'\n",
        "feature_tensor = torch.load(ffeat_items, map_location=device)\n",
        "print('feature tensor:', feature_tensor.shape)\n",
        "assert feature_tensor.shape[0] == df_users[item_naming].nunique()"
      ]
    },
    {
      "cell_type": "markdown",
      "metadata": {
        "id": "NcHuqMIyX6Bo"
      },
      "source": [
        "### CIT Portuguese Translated to English enBert"
      ]
    },
    {
      "cell_type": "code",
      "execution_count": null,
      "metadata": {
        "colab": {
          "base_uri": "https://localhost:8080/"
        },
        "id": "YxBQvvwuX6WK",
        "outputId": "8f3a5291-4a97-4208-df82-3a0da015e8d8"
      },
      "outputs": [
        {
          "output_type": "stream",
          "name": "stdout",
          "text": [
            "users\n",
            "===========\n",
            "users shape: (14417, 4)\n",
            "unique users: 1619\n",
            "unique articles: 821\n",
            "             contentId             personId  \\\n",
            "0   310515487419366995 -1130272294246983140   \n",
            "1   310515487419366995   344280948527967603   \n",
            "2   310515487419366995 -8763398617720485024   \n",
            "3 -8864073373672512525  3609194402293569455   \n",
            "4   310515487419366995  3609194402293569455   \n",
            "\n",
            "                                                 url lang  \n",
            "0  http://blog.runrun.it/erros-de-portugues-em-e-...   pt  \n",
            "1  http://blog.runrun.it/erros-de-portugues-em-e-...   pt  \n",
            "2  http://blog.runrun.it/erros-de-portugues-em-e-...   pt  \n",
            "3  http://www.startupsstars.com/2016/06/video-int...   pt  \n",
            "4  http://blog.runrun.it/erros-de-portugues-em-e-...   pt  \n",
            "\n",
            "items\n",
            "===========\n",
            "items shape: (821, 3)\n",
            "unique articles: 821\n",
            "      contentId                                              title  \\\n",
            "0 -9.160000e+18  Bad financial situation of retailers puts pres...   \n",
            "1 -5.920000e+18  Articles and Lectures - SENAR Precision Agricu...   \n",
            "2  6.160000e+18                   Precision Agriculture Network II   \n",
            "3 -1.670000e+18          The potential of bitcoin in Latin America   \n",
            "4  5.710000e+18  How Startups and Large Companies can Collabora...   \n",
            "\n",
            "                                                 url  \n",
            "0  http://economia.ig.com.br/2016-03-27/situacao-...  \n",
            "1  http://www.senar.org.br/agricultura-precisao/a...  \n",
            "2  https://www.macroprograma1.cnptia.embrapa.br/r...  \n",
            "3  https://www.coinbr.net/blog/america-latina-apr...  \n",
            "4  https://www.sympla.com.br/como-startups-e-gran...  \n",
            "\n",
            "article set is same in two files: True\n",
            "feature tensor: torch.Size([821, 768])\n"
          ]
        }
      ],
      "source": [
        "fusers = 'datasets/cit/common_user_item_pt.csv'\n",
        "fitems = 'datasets/cit/read_articles_tr.csv'\n",
        "user_naming, item_naming = 'personId', 'url'\n",
        "df_users, df_items = get_users_and_items(fusers, fitems, user_naming, item_naming)\n",
        "\n",
        "ffeat_items = 'datasets/cit/feat_tensor_tr_enbert.pt'\n",
        "feature_tensor = torch.load(ffeat_items, map_location=device)\n",
        "print('feature tensor:', feature_tensor.shape)\n",
        "assert feature_tensor.shape[0] == df_users[item_naming].nunique()"
      ]
    },
    {
      "cell_type": "markdown",
      "metadata": {
        "id": "LMxsCJ7ad2i3"
      },
      "source": [
        "### CIT English enBert"
      ]
    },
    {
      "cell_type": "code",
      "execution_count": null,
      "metadata": {
        "colab": {
          "base_uri": "https://localhost:8080/"
        },
        "id": "LS7aBWtbd4br",
        "outputId": "a748e396-ef37-4f37-8afc-de5168aedb47"
      },
      "outputs": [
        {
          "output_type": "stream",
          "name": "stdout",
          "text": [
            "users\n",
            "===========\n",
            "users shape: (26206, 4)\n",
            "unique users: 1644\n",
            "unique articles: 2154\n",
            "             contentId             personId  \\\n",
            "0 -3499919498720038879 -8845298781299428018   \n",
            "1  8890720798209849691 -1032019229384696495   \n",
            "2 -7820640624231356730  -445337111692715325   \n",
            "3 -1492913151930215984  4254153380739593270   \n",
            "4  3064370296170038610  3609194402293569455   \n",
            "\n",
            "                                                 url lang  \n",
            "0             http://techcrunch.com/2016/06/07/hiri/   en  \n",
            "1  https://www.nngroup.com/articles/top-intranet-...   en  \n",
            "2  http://www.fastcompany.com/3058876/your-most-p...   en  \n",
            "3  https://developer.chrome.com/devtools/docs/con...   en  \n",
            "4  https://www.linkedin.com/pulse/google-amazon-u...   en  \n",
            "\n",
            "items\n",
            "===========\n",
            "items shape: (2154, 4)\n",
            "unique articles: 2154\n",
            "             contentId                                              title  \\\n",
            "0 -6451309518266745024  Ethereum, a Virtual Currency, Enables Transact...   \n",
            "1 -4110354420726924665  Ethereum, a Virtual Currency, Enables Transact...   \n",
            "2 -7292285110016212249  Bitcoin Future: When GBPcoin of Branson Wins O...   \n",
            "3 -6151852268067518688                       Google Data Center 360° Tour   \n",
            "4 -2826566343807132236  IEEE to Talk Blockchain at Cloud Computing Oxf...   \n",
            "\n",
            "                                                 url lang  \n",
            "0  http://www.nytimes.com/2016/03/28/business/dea...   en  \n",
            "1  http://www.nytimes.com/2016/03/28/business/dea...   en  \n",
            "2  http://cointelegraph.com/news/bitcoin-future-w...   en  \n",
            "3  https://cloudplatform.googleblog.com/2016/03/G...   en  \n",
            "4  http://www.coindesk.com/ieee-blockchain-oxford...   en  \n",
            "\n",
            "article set is same in two files: True\n",
            "feature tensor: torch.Size([2154, 768])\n"
          ]
        }
      ],
      "source": [
        "fusers = 'datasets/cit/common_user_item_en.csv'\n",
        "fitems = 'datasets/cit/read_articles_en.csv'\n",
        "user_naming, item_naming = 'personId', 'contentId'\n",
        "df_users, df_items = get_users_and_items(fusers, fitems, user_naming, item_naming)\n",
        "\n",
        "ffeat_items = 'datasets/cit/feat_tensor_en_enbert.pt'\n",
        "feature_tensor = torch.load(ffeat_items, map_location=device)\n",
        "print('feature tensor:', feature_tensor.shape)\n",
        "assert feature_tensor.shape[0] == df_users[item_naming].nunique()"
      ]
    },
    {
      "cell_type": "markdown",
      "metadata": {
        "id": "DY1r0qbhVhYU"
      },
      "source": [
        "### CIT Mixed Portuguese+English mBert"
      ]
    },
    {
      "cell_type": "code",
      "execution_count": null,
      "metadata": {
        "colab": {
          "base_uri": "https://localhost:8080/"
        },
        "id": "Pmz8O83pVkAW",
        "outputId": "5e88b451-c3e1-44f5-bd9e-74f7d3214dcc"
      },
      "outputs": [
        {
          "output_type": "stream",
          "name": "stdout",
          "text": [
            "users\n",
            "===========\n",
            "users shape: (40623, 4)\n",
            "unique users: 1894\n",
            "unique articles: 2975\n",
            "             contentId             personId  \\\n",
            "0 -3499919498720038879 -8845298781299428018   \n",
            "1  8890720798209849691 -1032019229384696495   \n",
            "2 -7820640624231356730  -445337111692715325   \n",
            "3 -1492913151930215984  4254153380739593270   \n",
            "4  3064370296170038610  3609194402293569455   \n",
            "\n",
            "                                                 url lang  \n",
            "0             http://techcrunch.com/2016/06/07/hiri/   en  \n",
            "1  https://www.nngroup.com/articles/top-intranet-...   en  \n",
            "2  http://www.fastcompany.com/3058876/your-most-p...   en  \n",
            "3  https://developer.chrome.com/devtools/docs/con...   en  \n",
            "4  https://www.linkedin.com/pulse/google-amazon-u...   en  \n",
            "\n",
            "items\n",
            "===========\n",
            "items shape: (2975, 4)\n",
            "unique articles: 2975\n",
            "             contentId                                              title  \\\n",
            "0 -6451309518266745024  Ethereum, a Virtual Currency, Enables Transact...   \n",
            "1 -4110354420726924665  Ethereum, a Virtual Currency, Enables Transact...   \n",
            "2 -7292285110016212249  Bitcoin Future: When GBPcoin of Branson Wins O...   \n",
            "3 -6151852268067518688                       Google Data Center 360° Tour   \n",
            "4 -2826566343807132236  IEEE to Talk Blockchain at Cloud Computing Oxf...   \n",
            "\n",
            "                                                 url lang  \n",
            "0  http://www.nytimes.com/2016/03/28/business/dea...   en  \n",
            "1  http://www.nytimes.com/2016/03/28/business/dea...   en  \n",
            "2  http://cointelegraph.com/news/bitcoin-future-w...   en  \n",
            "3  https://cloudplatform.googleblog.com/2016/03/G...   en  \n",
            "4  http://www.coindesk.com/ieee-blockchain-oxford...   en  \n",
            "\n",
            "article set is same in two files: True\n",
            "feature tensor: torch.Size([2975, 768])\n"
          ]
        }
      ],
      "source": [
        "fusers = 'datasets/cit/common_user_item_pten.csv'\n",
        "fitems = 'datasets/cit/read_articles.csv'\n",
        "user_naming, item_naming = 'personId', 'contentId'\n",
        "df_users, df_items = get_users_and_items(fusers, fitems, user_naming, item_naming)\n",
        "\n",
        "ffeat_items = 'datasets/cit/feat_tensor_pten_mbert.pt'\n",
        "feature_tensor = torch.load(ffeat_items, map_location=device)\n",
        "print('feature tensor:', feature_tensor.shape)\n",
        "assert feature_tensor.shape[0] == df_users[item_naming].nunique()"
      ]
    },
    {
      "cell_type": "markdown",
      "metadata": {
        "id": "QpAfoWmOce5p"
      },
      "source": [
        "### CIT Mixed Portuguese+English xlm"
      ]
    },
    {
      "cell_type": "code",
      "execution_count": null,
      "metadata": {
        "colab": {
          "base_uri": "https://localhost:8080/"
        },
        "id": "42Qrsq2pciGk",
        "outputId": "5ddc4618-dc50-49b5-9525-cc961b868961"
      },
      "outputs": [
        {
          "output_type": "stream",
          "name": "stdout",
          "text": [
            "users\n",
            "===========\n",
            "users shape: (40623, 4)\n",
            "unique users: 1894\n",
            "unique articles: 2975\n",
            "             contentId             personId  \\\n",
            "0 -3499919498720038879 -8845298781299428018   \n",
            "1  8890720798209849691 -1032019229384696495   \n",
            "2 -7820640624231356730  -445337111692715325   \n",
            "3 -1492913151930215984  4254153380739593270   \n",
            "4  3064370296170038610  3609194402293569455   \n",
            "\n",
            "                                                 url lang  \n",
            "0             http://techcrunch.com/2016/06/07/hiri/   en  \n",
            "1  https://www.nngroup.com/articles/top-intranet-...   en  \n",
            "2  http://www.fastcompany.com/3058876/your-most-p...   en  \n",
            "3  https://developer.chrome.com/devtools/docs/con...   en  \n",
            "4  https://www.linkedin.com/pulse/google-amazon-u...   en  \n",
            "\n",
            "items\n",
            "===========\n",
            "items shape: (2975, 4)\n",
            "unique articles: 2975\n",
            "             contentId                                              title  \\\n",
            "0 -6451309518266745024  Ethereum, a Virtual Currency, Enables Transact...   \n",
            "1 -4110354420726924665  Ethereum, a Virtual Currency, Enables Transact...   \n",
            "2 -7292285110016212249  Bitcoin Future: When GBPcoin of Branson Wins O...   \n",
            "3 -6151852268067518688                       Google Data Center 360° Tour   \n",
            "4 -2826566343807132236  IEEE to Talk Blockchain at Cloud Computing Oxf...   \n",
            "\n",
            "                                                 url lang  \n",
            "0  http://www.nytimes.com/2016/03/28/business/dea...   en  \n",
            "1  http://www.nytimes.com/2016/03/28/business/dea...   en  \n",
            "2  http://cointelegraph.com/news/bitcoin-future-w...   en  \n",
            "3  https://cloudplatform.googleblog.com/2016/03/G...   en  \n",
            "4  http://www.coindesk.com/ieee-blockchain-oxford...   en  \n",
            "\n",
            "article set is same in two files: True\n",
            "feature tensor: torch.Size([2975, 768])\n"
          ]
        }
      ],
      "source": [
        "fusers = 'datasets/cit/common_user_item_pten.csv'\n",
        "fitems = 'datasets/cit/read_articles.csv'\n",
        "user_naming, item_naming = 'personId', 'contentId'\n",
        "df_users, df_items = get_users_and_items(fusers, fitems, user_naming, item_naming)\n",
        "\n",
        "ffeat_items = 'datasets/cit/feat_tensor_pten_xlm.pt'\n",
        "feature_tensor = torch.load(ffeat_items, map_location=device)\n",
        "print('feature tensor:', feature_tensor.shape)\n",
        "assert feature_tensor.shape[0] == df_users[item_naming].nunique()"
      ]
    },
    {
      "cell_type": "markdown",
      "metadata": {
        "id": "Y8sZlt0xjno1"
      },
      "source": [
        "### CIT Train on English only and Test on Translated + English enBert"
      ]
    },
    {
      "cell_type": "markdown",
      "metadata": {
        "id": "dc-MnR17WBm3"
      },
      "source": [
        "Train on Orig EN first -> 'CIT English enBert'\n",
        "\n",
        "Then test on the following Mix"
      ]
    },
    {
      "cell_type": "code",
      "execution_count": null,
      "metadata": {
        "id": "Pi0vsO_PlEAw",
        "colab": {
          "base_uri": "https://localhost:8080/"
        },
        "outputId": "aa981024-cd2d-464c-de0b-ffce49a57ea6"
      },
      "outputs": [
        {
          "output_type": "stream",
          "name": "stdout",
          "text": [
            "users\n",
            "===========\n",
            "users shape: (2956, 4)\n",
            "unique users: 653\n",
            "unique articles: 2956\n",
            "             contentId             personId  \\\n",
            "0 -3499919498720038879 -8845298781299428018   \n",
            "1  8890720798209849691 -1032019229384696495   \n",
            "2 -7820640624231356730  -445337111692715325   \n",
            "3 -1492913151930215984  4254153380739593270   \n",
            "4  3064370296170038610  3609194402293569455   \n",
            "\n",
            "                                                 url lang  \n",
            "0             http://techcrunch.com/2016/06/07/hiri/   en  \n",
            "1  https://www.nngroup.com/articles/top-intranet-...   en  \n",
            "2  http://www.fastcompany.com/3058876/your-most-p...   en  \n",
            "3  https://developer.chrome.com/devtools/docs/con...   en  \n",
            "4  https://www.linkedin.com/pulse/google-amazon-u...   en  \n",
            "\n",
            "items\n",
            "===========\n",
            "items shape: (2956, 4)\n",
            "unique articles: 2956\n",
            "      contentId                                              title  \\\n",
            "0 -6.451310e+18  Ethereum, a Virtual Currency, Enables Transact...   \n",
            "1 -7.292285e+18  Bitcoin Future: When GBPcoin of Branson Wins O...   \n",
            "2 -6.151852e+18                       Google Data Center 360° Tour   \n",
            "3 -2.826566e+18  IEEE to Talk Blockchain at Cloud Computing Oxf...   \n",
            "4  4.119190e+18  Blockchain Technology Could Put Bank Auditors ...   \n",
            "\n",
            "                                                 url lang  \n",
            "0  http://www.nytimes.com/2016/03/28/business/dea...   en  \n",
            "1  http://cointelegraph.com/news/bitcoin-future-w...   en  \n",
            "2  https://cloudplatform.googleblog.com/2016/03/G...   en  \n",
            "3  http://www.coindesk.com/ieee-blockchain-oxford...   en  \n",
            "4  https://bitcoinmagazine.com/articles/blockchai...   en  \n",
            "\n",
            "article set is same in two files: True\n",
            "feature tensor: torch.Size([2956, 768])\n"
          ]
        }
      ],
      "source": [
        "fusers = 'datasets/cit/common_user_item_tren.csv'\n",
        "fitems = 'datasets/cit/read_articles_tren.csv'\n",
        "user_naming, item_naming = 'personId', 'url'\n",
        "df_users, df_items = get_users_and_items(fusers, fitems, user_naming, item_naming)\n",
        "\n",
        "ffeat_items = 'datasets/cit/feat_tensor_tren_enbert.pt'\n",
        "feature_tensor = torch.load(ffeat_items, map_location=device)\n",
        "print('feature tensor:', feature_tensor.shape)\n",
        "assert feature_tensor.shape[0] == df_users[item_naming].nunique()"
      ]
    },
    {
      "cell_type": "markdown",
      "metadata": {
        "id": "789qIyS6jwwu"
      },
      "source": [
        "### CIT Train with Translated + English and Test on Translated + English enBert"
      ]
    },
    {
      "cell_type": "code",
      "execution_count": null,
      "metadata": {
        "id": "cupqwCKdlEbU",
        "colab": {
          "base_uri": "https://localhost:8080/"
        },
        "outputId": "0447a908-df60-42b0-ac8f-64c37e7c3b92"
      },
      "outputs": [
        {
          "output_type": "stream",
          "name": "stdout",
          "text": [
            "users\n",
            "===========\n",
            "users shape: (2956, 4)\n",
            "unique users: 653\n",
            "unique articles: 2956\n",
            "             contentId             personId  \\\n",
            "0 -3499919498720038879 -8845298781299428018   \n",
            "1  8890720798209849691 -1032019229384696495   \n",
            "2 -7820640624231356730  -445337111692715325   \n",
            "3 -1492913151930215984  4254153380739593270   \n",
            "4  3064370296170038610  3609194402293569455   \n",
            "\n",
            "                                                 url lang  \n",
            "0             http://techcrunch.com/2016/06/07/hiri/   en  \n",
            "1  https://www.nngroup.com/articles/top-intranet-...   en  \n",
            "2  http://www.fastcompany.com/3058876/your-most-p...   en  \n",
            "3  https://developer.chrome.com/devtools/docs/con...   en  \n",
            "4  https://www.linkedin.com/pulse/google-amazon-u...   en  \n",
            "\n",
            "items\n",
            "===========\n",
            "items shape: (2956, 4)\n",
            "unique articles: 2956\n",
            "      contentId                                              title  \\\n",
            "0 -6.451310e+18  Ethereum, a Virtual Currency, Enables Transact...   \n",
            "1 -7.292285e+18  Bitcoin Future: When GBPcoin of Branson Wins O...   \n",
            "2 -6.151852e+18                       Google Data Center 360° Tour   \n",
            "3 -2.826566e+18  IEEE to Talk Blockchain at Cloud Computing Oxf...   \n",
            "4  4.119190e+18  Blockchain Technology Could Put Bank Auditors ...   \n",
            "\n",
            "                                                 url lang  \n",
            "0  http://www.nytimes.com/2016/03/28/business/dea...   en  \n",
            "1  http://cointelegraph.com/news/bitcoin-future-w...   en  \n",
            "2  https://cloudplatform.googleblog.com/2016/03/G...   en  \n",
            "3  http://www.coindesk.com/ieee-blockchain-oxford...   en  \n",
            "4  https://bitcoinmagazine.com/articles/blockchai...   en  \n",
            "\n",
            "article set is same in two files: True\n",
            "feature tensor: torch.Size([2956, 768])\n"
          ]
        }
      ],
      "source": [
        "fusers = 'datasets/cit/common_user_item_tren.csv'\n",
        "fitems = 'datasets/cit/read_articles_tren.csv'\n",
        "user_naming, item_naming = 'personId', 'url'\n",
        "df_users, df_items = get_users_and_items(fusers, fitems, user_naming, item_naming)\n",
        "\n",
        "ffeat_items = 'datasets/cit/feat_tensor_tren_enbert.pt'\n",
        "feature_tensor = torch.load(ffeat_items, map_location=device)\n",
        "print('feature tensor:', feature_tensor.shape)\n",
        "assert feature_tensor.shape[0] == df_users[item_naming].nunique()"
      ]
    },
    {
      "cell_type": "markdown",
      "metadata": {
        "id": "FDqZQlwbXcHQ"
      },
      "source": [
        "## MIND"
      ]
    },
    {
      "cell_type": "code",
      "execution_count": null,
      "metadata": {
        "colab": {
          "base_uri": "https://localhost:8080/"
        },
        "id": "Ilh6Gi7aXchC",
        "outputId": "1ed69b9a-3493-4b3b-8377-914490c63e5c"
      },
      "outputs": [
        {
          "output_type": "stream",
          "name": "stdout",
          "text": [
            "users\n",
            "===========\n",
            "users shape: (4658157, 2)\n",
            "unique users: 155855\n",
            "unique articles: 67147\n",
            "   User_ID  News_ID\n",
            "0  U321454  N128643\n",
            "1  U578952  N122359\n",
            "2  U578952  N110096\n",
            "3  U578952   N20583\n",
            "4  U578952  N128736\n",
            "\n",
            "items\n",
            "===========\n",
            "items shape: (67147, 2)\n",
            "unique articles: 67147\n",
            "  News_ID                                              title\n",
            "0  N88753  The Brands Queen Elizabeth, Prince Charles, an...\n",
            "1  N45436    Walmart Slashes Prices on Last-Generation iPads\n",
            "2  N23144                      50 Worst Habits For Belly Fat\n",
            "3  N86255  Dispose of unwanted prescription drugs during ...\n",
            "4  N93187  The Cost of Trump's Aid Freeze in the Trenches...\n",
            "\n",
            "article set is same in two files: True\n",
            "feature tensor: torch.Size([67147, 768])\n"
          ]
        }
      ],
      "source": [
        "i = 0\n",
        "fusers = f'datasets/mind/MINDlarge_train/common_user_item_{i}.csv'\n",
        "fitems = f'datasets/mind/MINDlarge_train/read_article_titles_{i}.csv'\n",
        "user_naming, item_naming = 'User_ID', 'News_ID'\n",
        "df_users, df_items = get_users_and_items(fusers, fitems, user_naming, item_naming)\n",
        "\n",
        "ffeat_items = f'datasets/mind/MINDlarge_train/feat_tensor_{i}.pt'\n",
        "feature_tensor = torch.load(ffeat_items, map_location=device)\n",
        "print('feature tensor:', feature_tensor.shape)\n",
        "assert feature_tensor.shape[0] == df_users[item_naming].nunique()"
      ]
    },
    {
      "cell_type": "markdown",
      "metadata": {
        "id": "GV5YVj5nnMbZ"
      },
      "source": [
        "# Run PLM"
      ]
    },
    {
      "cell_type": "code",
      "execution_count": null,
      "metadata": {
        "id": "6gY5HDMap2Zd"
      },
      "outputs": [],
      "source": [
        "plm_models = {\n",
        "    'mbert':  'bert-base-multilingual-cased',\n",
        "    'enbert': 'bert-base-cased',\n",
        "    'nbbert': 'NbAiLab/nb-bert-base',\n",
        "    'ptbert': 'neuralmind/bert-base-portuguese-cased',\n",
        "    'xlm':    'microsoft/infoxlm-base',\n",
        "    'gpt2':   'gpt2'\n",
        "}"
      ]
    },
    {
      "cell_type": "code",
      "execution_count": null,
      "metadata": {
        "id": "Yi9Pm0TWn6dk"
      },
      "outputs": [],
      "source": [
        "def load_plm_model(plm_model_name, device):\n",
        "    lib_plm_model_name = plm_models[plm_model_name]\n",
        "    print('Loading PLM: ', lib_plm_model_name)\n",
        "    plm_model = AutoModel.from_pretrained(lib_plm_model_name).to(device)\n",
        "    plm_tokenizer = AutoTokenizer.from_pretrained(lib_plm_model_name)\n",
        "    return plm_model, plm_tokenizer\n",
        "\n",
        "\n",
        "def get_plm_embeddings(plm_model, plm_tokenizer, df_items, title_naming, device, max_encoding_length=50, batch_size=1024):\n",
        "    print('Getting embeddings for article titles using PLM')\n",
        "    print('df_items shape:', df_items.shape)\n",
        "\n",
        "    encoded_inputs = plm_tokenizer(list(df_items[title_naming]), max_length=max_encoding_length, padding=True, truncation=True, return_tensors=\"pt\")\n",
        "    input_ids = encoded_inputs['input_ids'].to(device)\n",
        "    print('input_ids shape:', input_ids.shape)\n",
        "\n",
        "    feat_vectors = []\n",
        "    for i in range(0, len(input_ids), batch_size):\n",
        "        print(f'Progress step: {i+1} / {len(input_ids)//batch_size + 1}')\n",
        "        encoded_inputs_batch = input_ids[i:, :] if i+batch_size >= len(input_ids) else input_ids[i:i+batch_size, :]\n",
        "        with torch.no_grad():\n",
        "            plm_output = plm_model(encoded_inputs_batch)[1]\n",
        "        feat_vectors.append(plm_output)\n",
        "    \n",
        "    feat_tensor = torch.cat(feat_vectors, 0)\n",
        "    return feat_tensor"
      ]
    },
    {
      "cell_type": "code",
      "execution_count": null,
      "metadata": {
        "colab": {
          "base_uri": "https://localhost:8080/",
          "height": 297,
          "referenced_widgets": [
            "8a4a30e6d1bd483a86aa8a840cddc3bd",
            "eb8cb3324dd446e2a4a99b30eca5aba9",
            "e486d9e90ab24044a9cbb5edd4c34121",
            "9d24d5894e064e75a27771c674f3409a",
            "297a978ffa8f4c7ca170116023eaf90e",
            "a631e5321b244532b36832e14da4acf0",
            "a9067c8237164a42bb43fde2f1e6e34f",
            "0c3107cacdde45a8b9ca7bc100840e4d",
            "c326211601564d1c9d21bb7b500cf55c",
            "11a9cc2984364c3596638ea3cfbef594",
            "8185e39972a34c0080c51a48016ad982",
            "c5dc980907824b988e6e55516fed2824",
            "d02b23fe10094f798e7d0805a29756ff",
            "980b63bfebe24c1990b4276121d77b5c",
            "166c41edca954a79a98a14840348af2d",
            "7970be904b184cc0b8c903a20def93a5",
            "5cb5f46c2c474636bde3bebc1c99fb49",
            "b3e2acedd51e4dfe87f625904c91581c",
            "930d19749db74eed9ee42b538654ee4d",
            "bb8871be5371474e83d9ae8cc8b0f373",
            "d155934987f545a4b9aca22ab3ac1544",
            "aa560995266e49ffb72ed907af78460a",
            "e464ce8ddfba43ba9f37fb98f293956b",
            "79049d17b2fd4658a397747662be9795",
            "6338609e65f04d178b7eb34aeb598b4b",
            "1fd1c13324d247679378677565e60b86",
            "5e12f36f1f6746bb9fa766caf4bb46f2",
            "4d685062a3d34d7691fb61d4f3509598",
            "99a00caa7c09446892b76df7d7ff3e9a",
            "6d315e20f99043f68f23b3e918f744b2",
            "df0f870822f74257becbee915cb20232",
            "17454ef23422430db432bb11c7574f4f",
            "8af00fb0bff3450097bb7ca158f98949",
            "a0f06ed930d74017aee4a8aa9a546358",
            "7d8170aeedb24335bd2479940c60f843",
            "e6571d50a5654a6bb567e30486f89446",
            "d33e7083ff3543d3af65be79dcf79db3",
            "02e37355524a42d29226c3bf3de1f8e0",
            "78bd6b161fae40239074962809f34388",
            "24df30a7a1d342c79e2cf1ff007d511f",
            "c513012c78824ea1911b7704aa27d784",
            "06a6c5b245c7484fb9be3b0c128d5a57",
            "390973fd38254795b69c2f737daa61f5",
            "de1c3f38590145e0a460c4db30628d2c",
            "bb1f05f9c707401cadc9d4ed580f51cd",
            "052f9aa50f4749178baf1cf49c426939",
            "177e724877364ea68db83c09e704042f",
            "6efa868d2cc449239b89afc55156d50b",
            "06676567ceb346f88f9896069b902571",
            "2837f3e74acd42c189733bb0764d8640",
            "076fd559cd8d4060a92452fc4af05563",
            "b19a39330add42fbabd5db49195da399",
            "0a5adb57432e4f939c0ee8ca8281e43c",
            "40b812b7e54848eaab51e2bb2b9831e7",
            "4767287b4b5a40e89242078d44d01c86",
            "206a4509a67d4feebb7697ac4830b277",
            "26645a25c2024db4be25cbb14c6b2104",
            "64d3bb14be014a4ea71c7462a577d2fa",
            "f9719bdb1cf3469096a285bdcfa281d4",
            "05110a19b96f465bbc27615710cb1202",
            "3d0ca2235e4e44caaf43ce538debdfdd",
            "81455fcc383b4a3cb105500c7c3158f5",
            "ea0cb7c799124d80b109429799d841af",
            "231a33089fc443a59b40fa5d438401de",
            "452c68e1c08342bfa00910a719a9a2c8",
            "c9a44c539ba64a5b8c03d9b62f01b304"
          ]
        },
        "id": "uKjck7UUnLl_",
        "outputId": "843adb6d-dfef-4a60-ae10-d4a6c97339bf"
      },
      "outputs": [
        {
          "output_type": "stream",
          "name": "stdout",
          "text": [
            "Loading PLM:  neuralmind/bert-base-portuguese-cased\n"
          ]
        },
        {
          "output_type": "display_data",
          "data": {
            "text/plain": [
              "Downloading (…)lve/main/config.json:   0%|          | 0.00/647 [00:00<?, ?B/s]"
            ],
            "application/vnd.jupyter.widget-view+json": {
              "version_major": 2,
              "version_minor": 0,
              "model_id": "8a4a30e6d1bd483a86aa8a840cddc3bd"
            }
          },
          "metadata": {}
        },
        {
          "output_type": "display_data",
          "data": {
            "text/plain": [
              "Downloading pytorch_model.bin:   0%|          | 0.00/438M [00:00<?, ?B/s]"
            ],
            "application/vnd.jupyter.widget-view+json": {
              "version_major": 2,
              "version_minor": 0,
              "model_id": "c5dc980907824b988e6e55516fed2824"
            }
          },
          "metadata": {}
        },
        {
          "output_type": "stream",
          "name": "stderr",
          "text": [
            "Some weights of the model checkpoint at neuralmind/bert-base-portuguese-cased were not used when initializing BertModel: ['cls.predictions.decoder.weight', 'cls.predictions.transform.dense.bias', 'cls.predictions.bias', 'cls.predictions.transform.LayerNorm.weight', 'cls.predictions.transform.LayerNorm.bias', 'cls.seq_relationship.bias', 'cls.predictions.transform.dense.weight', 'cls.seq_relationship.weight']\n",
            "- This IS expected if you are initializing BertModel from the checkpoint of a model trained on another task or with another architecture (e.g. initializing a BertForSequenceClassification model from a BertForPreTraining model).\n",
            "- This IS NOT expected if you are initializing BertModel from the checkpoint of a model that you expect to be exactly identical (initializing a BertForSequenceClassification model from a BertForSequenceClassification model).\n"
          ]
        },
        {
          "output_type": "display_data",
          "data": {
            "text/plain": [
              "Downloading (…)okenizer_config.json:   0%|          | 0.00/43.0 [00:00<?, ?B/s]"
            ],
            "application/vnd.jupyter.widget-view+json": {
              "version_major": 2,
              "version_minor": 0,
              "model_id": "e464ce8ddfba43ba9f37fb98f293956b"
            }
          },
          "metadata": {}
        },
        {
          "output_type": "display_data",
          "data": {
            "text/plain": [
              "Downloading (…)solve/main/vocab.txt:   0%|          | 0.00/210k [00:00<?, ?B/s]"
            ],
            "application/vnd.jupyter.widget-view+json": {
              "version_major": 2,
              "version_minor": 0,
              "model_id": "a0f06ed930d74017aee4a8aa9a546358"
            }
          },
          "metadata": {}
        },
        {
          "output_type": "display_data",
          "data": {
            "text/plain": [
              "Downloading (…)in/added_tokens.json:   0%|          | 0.00/2.00 [00:00<?, ?B/s]"
            ],
            "application/vnd.jupyter.widget-view+json": {
              "version_major": 2,
              "version_minor": 0,
              "model_id": "bb1f05f9c707401cadc9d4ed580f51cd"
            }
          },
          "metadata": {}
        },
        {
          "output_type": "display_data",
          "data": {
            "text/plain": [
              "Downloading (…)cial_tokens_map.json:   0%|          | 0.00/112 [00:00<?, ?B/s]"
            ],
            "application/vnd.jupyter.widget-view+json": {
              "version_major": 2,
              "version_minor": 0,
              "model_id": "206a4509a67d4feebb7697ac4830b277"
            }
          },
          "metadata": {}
        }
      ],
      "source": [
        "plm_model_name = 'ptbert'\n",
        "plm_model, plm_tokenizer = load_plm_model(plm_model_name, device)"
      ]
    },
    {
      "cell_type": "code",
      "execution_count": null,
      "metadata": {
        "colab": {
          "base_uri": "https://localhost:8080/"
        },
        "id": "0Qs01iRWn14b",
        "outputId": "ce5f8674-bc9c-4544-a9b4-d631a67f1dc0"
      },
      "outputs": [
        {
          "output_type": "stream",
          "name": "stdout",
          "text": [
            "Getting embeddings for article titles using PLM\n",
            "df_items shape: (821, 4)\n",
            "input_ids shape: torch.Size([821, 50])\n",
            "Progress step: 1 / 1\n",
            "Output feat_tensor shape: torch.Size([821, 768])\n"
          ]
        }
      ],
      "source": [
        "title_naming = 'title'\n",
        "feat_tensor = get_plm_embeddings(plm_model, plm_tokenizer, df_items, title_naming, device)\n",
        "print('Output feat_tensor shape:', feat_tensor.shape)"
      ]
    },
    {
      "cell_type": "markdown",
      "metadata": {
        "id": "OejQQfBeV_wI"
      },
      "source": [
        "# 3. Graph Construction"
      ]
    },
    {
      "cell_type": "markdown",
      "metadata": {
        "id": "xQhf8eEAE4yI"
      },
      "source": [
        "We construct graph from the user-item interaction."
      ]
    },
    {
      "cell_type": "code",
      "execution_count": null,
      "metadata": {
        "id": "jyHRl7Yq12-t"
      },
      "outputs": [],
      "source": [
        "user_has_features = True\n",
        "user_feature_size = 16          # 32\n",
        "item_feature_init = 'plm'       # 'plm', 'zero', 'random'\n",
        "item_feature_size = 768         # feature_tensor.size()[1]\n",
        "random_edges = False"
      ]
    },
    {
      "cell_type": "markdown",
      "metadata": {
        "id": "IFTK2qz_11sU"
      },
      "source": [
        "#### Reload"
      ]
    },
    {
      "cell_type": "code",
      "execution_count": null,
      "metadata": {
        "colab": {
          "base_uri": "https://localhost:8080/"
        },
        "id": "wDnjAvzvE8by",
        "outputId": "29593f66-e811-419c-fd90-37dfb797911a"
      },
      "outputs": [
        {
          "output_type": "stream",
          "name": "stdout",
          "text": [
            "Mapping of user IDs to consecutive values:\n",
            "==========================================\n",
            "                userId  mappedID\n",
            "0 -1130272294246983140         0\n",
            "1   344280948527967603         1\n",
            "2 -8763398617720485024         2\n",
            "3  3609194402293569455         3\n",
            "4  1908339160857512799         4\n",
            "\n"
          ]
        }
      ],
      "source": [
        "# Create a mapping from unique user indices to range [0, num_user_nodes):\n",
        "unique_user_id = df_users[user_naming].unique()\n",
        "unique_user_id = pd.DataFrame(data={\n",
        "    'userId': unique_user_id,\n",
        "    'mappedID': pd.RangeIndex(len(unique_user_id)),\n",
        "})\n",
        "print(\"Mapping of user IDs to consecutive values:\")\n",
        "print(\"==========================================\")\n",
        "print(unique_user_id.head())\n",
        "print()"
      ]
    },
    {
      "cell_type": "code",
      "execution_count": null,
      "metadata": {
        "colab": {
          "base_uri": "https://localhost:8080/"
        },
        "id": "i8rePSn0E8Y6",
        "outputId": "89430562-adbb-49af-f4eb-cb116f89231a"
      },
      "outputs": [
        {
          "output_type": "stream",
          "name": "stdout",
          "text": [
            "Mapping of item IDs to consecutive values:\n",
            "===========================================\n",
            "                itemId  mappedID\n",
            "0 -9157338616628196758         0\n",
            "1 -5917314377186856799         1\n",
            "2  6157037646878010131         2\n",
            "3 -1672166631728511207         3\n",
            "4  5714314286511882372         4\n"
          ]
        }
      ],
      "source": [
        "# Create a mapping from unique item indices to range [0, num_item_nodes):\n",
        "assert not any(df_items[item_naming].values != df_items[item_naming].unique())\n",
        "unique_item_id = df_items[item_naming]\n",
        "unique_item_id = pd.DataFrame(data={\n",
        "    'itemId': unique_item_id,\n",
        "    'mappedID': pd.RangeIndex(len(unique_item_id)),\n",
        "})\n",
        "print(\"Mapping of item IDs to consecutive values:\")\n",
        "print(\"===========================================\")\n",
        "print(unique_item_id.head())"
      ]
    },
    {
      "cell_type": "code",
      "execution_count": null,
      "metadata": {
        "id": "o9JYfLejE8Wc"
      },
      "outputs": [],
      "source": [
        "# Perform merge to obtain the edges from users and items:\n",
        "ratings_user_id = pd.merge(df_users[user_naming], unique_user_id,\n",
        "                            left_on=user_naming, right_on='userId', how='left')\n",
        "ratings_user_id = torch.from_numpy(ratings_user_id['mappedID'].values)\n",
        "ratings_item_id = pd.merge(df_users[item_naming], unique_item_id,\n",
        "                            left_on=item_naming, right_on='itemId', how='left')\n",
        "ratings_item_id = torch.from_numpy(ratings_item_id['mappedID'].values)"
      ]
    },
    {
      "cell_type": "markdown",
      "metadata": {
        "id": "2JkYHMyayChc"
      },
      "source": [
        "Random edges result in 0.5 AUC and 0.0 F1 score."
      ]
    },
    {
      "cell_type": "code",
      "execution_count": null,
      "metadata": {
        "id": "djKLNrCpwSo5"
      },
      "outputs": [],
      "source": [
        "# Random edges\n",
        "if random_edges:\n",
        "  ratings_user_id = torch.from_numpy(np.random.randint(low=0, high=len(unique_user_id)-1, size=len(unique_user_id)))\n",
        "  ratings_item_id = torch.from_numpy(np.random.randint(low=0, high=len(unique_item_id)-1, size=len(unique_user_id)))"
      ]
    },
    {
      "cell_type": "code",
      "execution_count": null,
      "metadata": {
        "colab": {
          "base_uri": "https://localhost:8080/"
        },
        "id": "AIvgNx-xE2gX",
        "outputId": "a8d62a1e-7222-4b72-b254-de8d477b4eb3"
      },
      "outputs": [
        {
          "output_type": "stream",
          "name": "stdout",
          "text": [
            "\n",
            "Final edge indices pointing from users to items:\n",
            "=================================================\n",
            "tensor([[   0,    1,    2,  ...,   46, 1405, 1468],\n",
            "        [ 260,  260,  260,  ...,  783,  618,  782]])\n"
          ]
        }
      ],
      "source": [
        "# With this, we are ready to construct our `edge_index` in COO format\n",
        "# following PyG semantics:\n",
        "edge_index_coo_user_to_item = torch.stack([ratings_user_id, ratings_item_id], dim=0)\n",
        "\n",
        "print()\n",
        "print(\"Final edge indices pointing from users to items:\")\n",
        "print(\"=================================================\")\n",
        "print(edge_index_coo_user_to_item)"
      ]
    },
    {
      "cell_type": "code",
      "execution_count": null,
      "metadata": {
        "colab": {
          "base_uri": "https://localhost:8080/"
        },
        "id": "wOlY4sOYHWnX",
        "outputId": "7e1dd1f5-d328-4dda-8f70-aac8b8cb3b19"
      },
      "outputs": [
        {
          "output_type": "stream",
          "name": "stdout",
          "text": [
            "user features shape: torch.Size([1619, 16])\n",
            "item features shape: torch.Size([821, 768])\n",
            "HeteroData(\n",
            "  \u001b[1muser\u001b[0m={\n",
            "    node_id=[1619],\n",
            "    x=[1619, 16]\n",
            "  },\n",
            "  \u001b[1mitem\u001b[0m={\n",
            "    node_id=[821],\n",
            "    x=[821, 768]\n",
            "  },\n",
            "  \u001b[1m(user, rates, item)\u001b[0m={ edge_index=[2, 14417] },\n",
            "  \u001b[1m(item, rev_rates, user)\u001b[0m={ edge_index=[2, 14417] }\n",
            ")\n",
            "=============================\n",
            "user num_nodes: 1619\n",
            "user num_features: 16\n",
            "item num_nodes: 821\n",
            "item num_features: 768\n",
            "num_edges user->item: 14417\n",
            "num_edges item->user: 14417\n"
          ]
        }
      ],
      "source": [
        "data = HeteroData()\n",
        "\n",
        "# Save node indices:\n",
        "data[\"user\"].node_id = torch.arange(len(unique_user_id))\n",
        "data[\"item\"].node_id = torch.arange(len(unique_item_id))\n",
        "\n",
        "# Add the node features and edge indices:\n",
        "if item_feature_init == 'plm':\n",
        "  data[\"item\"].x = feature_tensor  # DONE\n",
        "  if user_has_features:\n",
        "  # only random init for user features\n",
        "    data[\"user\"].x = torch.Tensor(np.random.random((len(unique_user_id), user_feature_size)))\n",
        "    print('user features shape:', data[\"user\"].x.shape)\n",
        "elif item_feature_init == 'random':\n",
        "  data[\"item\"].x = torch.Tensor(np.random.random((len(unique_item_id), item_feature_size)))\n",
        "elif item_feature_init == 'zero':\n",
        "  data[\"item\"].x = torch.Tensor(np.zeros((len(unique_item_id), item_feature_size)))\n",
        "else:\n",
        "  raise 'Need item feature init type: plm, random, zero'\n",
        "\n",
        "print('item features shape:', data[\"item\"].x.shape)\n",
        "data[\"user\", \"rates\", \"item\"].edge_index = edge_index_coo_user_to_item  # DONE\n",
        "\n",
        "# We also need to make sure to add the reverse edges from items to users\n",
        "# in order to let a GNN be able to pass messages in both directions.\n",
        "# We can leverage the `T.ToUndirected()` transform for this from PyG:\n",
        "data = T.ToUndirected()(data)\n",
        "del data['item', 'rev_rates', 'user'].edge_label  # Remove \"reverse\" label.\n",
        "\n",
        "print(data)\n",
        "print(\"=============================\")\n",
        "print('user num_nodes:', data[\"user\"].num_nodes)\n",
        "print('user num_features:', data[\"user\"].num_features)\n",
        "print('item num_nodes:', data[\"item\"].num_nodes)\n",
        "print('item num_features:', data[\"item\"].num_features)\n",
        "print('num_edges user->item:', data[\"user\", \"rates\", \"item\"].num_edges)\n",
        "print('num_edges item->user:', data[\"item\", \"rev_rates\", \"user\"].num_edges)"
      ]
    },
    {
      "cell_type": "markdown",
      "metadata": {
        "id": "_Tui0AKpdJl4"
      },
      "source": [
        "# 4. Data Loaders"
      ]
    },
    {
      "cell_type": "code",
      "execution_count": null,
      "metadata": {
        "id": "ONZG01dQlQ9f"
      },
      "outputs": [],
      "source": [
        "neg_sampling_ratio = 1.0        # hyper: 1, 2\n",
        "batch_size = 128\n",
        "num_neighbors = [10, 5]         # hyper: [10, 5], [10, 10], [20, 10], [20, 20]"
      ]
    },
    {
      "cell_type": "markdown",
      "metadata": {
        "id": "ntuMlotDlRdt"
      },
      "source": [
        "#### Reload"
      ]
    },
    {
      "cell_type": "code",
      "execution_count": null,
      "metadata": {
        "colab": {
          "base_uri": "https://localhost:8080/"
        },
        "id": "mnSF5uO-HWkn",
        "outputId": "13233adb-1799-4811-d0be-ba2e9e8ac86d"
      },
      "outputs": [
        {
          "output_type": "stream",
          "name": "stdout",
          "text": [
            "Training data:\n",
            "==============\n",
            "HeteroData(\n",
            "  \u001b[1muser\u001b[0m={\n",
            "    node_id=[1619],\n",
            "    x=[1619, 16]\n",
            "  },\n",
            "  \u001b[1mitem\u001b[0m={\n",
            "    node_id=[821],\n",
            "    x=[821, 768]\n",
            "  },\n",
            "  \u001b[1m(user, rates, item)\u001b[0m={\n",
            "    edge_index=[2, 8075],\n",
            "    edge_label=[3460],\n",
            "    edge_label_index=[2, 3460]\n",
            "  },\n",
            "  \u001b[1m(item, rev_rates, user)\u001b[0m={ edge_index=[2, 8075] }\n",
            ")\n",
            "\n",
            "Validation data:\n",
            "================\n",
            "HeteroData(\n",
            "  \u001b[1muser\u001b[0m={\n",
            "    node_id=[1619],\n",
            "    x=[1619, 16]\n",
            "  },\n",
            "  \u001b[1mitem\u001b[0m={\n",
            "    node_id=[821],\n",
            "    x=[821, 768]\n",
            "  },\n",
            "  \u001b[1m(user, rates, item)\u001b[0m={\n",
            "    edge_index=[2, 11535],\n",
            "    edge_label=[2882],\n",
            "    edge_label_index=[2, 2882]\n",
            "  },\n",
            "  \u001b[1m(item, rev_rates, user)\u001b[0m={ edge_index=[2, 11535] }\n",
            ")\n",
            "\n",
            "Test data:\n",
            "================\n",
            "HeteroData(\n",
            "  \u001b[1muser\u001b[0m={\n",
            "    node_id=[1619],\n",
            "    x=[1619, 16]\n",
            "  },\n",
            "  \u001b[1mitem\u001b[0m={\n",
            "    node_id=[821],\n",
            "    x=[821, 768]\n",
            "  },\n",
            "  \u001b[1m(user, rates, item)\u001b[0m={\n",
            "    edge_index=[2, 12976],\n",
            "    edge_label=[2882],\n",
            "    edge_label_index=[2, 2882]\n",
            "  },\n",
            "  \u001b[1m(item, rev_rates, user)\u001b[0m={ edge_index=[2, 12976] }\n",
            ")\n"
          ]
        }
      ],
      "source": [
        "# For this, we first split the set of edges into\n",
        "# training (80%), validation (10%), and testing edges (10%).\n",
        "# Across the training edges, we use 70% of edges for message passing,\n",
        "# and 30% of edges for supervision.\n",
        "# We further want to generate fixed negative edges for evaluation with a ratio of 2:1.\n",
        "# Negative edges during training will be generated on-the-fly.\n",
        "# We can leverage the `RandomLinkSplit()` transform for this from PyG:\n",
        "transform = T.RandomLinkSplit(\n",
        "    num_val=0.1,\n",
        "    num_test=0.1,\n",
        "    disjoint_train_ratio=0.3,\n",
        "    neg_sampling_ratio=neg_sampling_ratio,\n",
        "    add_negative_train_samples=False,       # negative samples generated on-the-fly\n",
        "    edge_types=(\"user\", \"rates\", \"item\"),\n",
        "    rev_edge_types=(\"item\", \"rev_rates\", \"user\"), \n",
        ")\n",
        "\n",
        "\n",
        "train_data, val_data, test_data = transform(data)\n",
        "print(\"Training data:\")\n",
        "print(\"==============\")\n",
        "print(train_data)\n",
        "print()\n",
        "print(\"Validation data:\")\n",
        "print(\"================\")\n",
        "print(val_data)\n",
        "print()\n",
        "print(\"Test data:\")\n",
        "print(\"================\")\n",
        "print(test_data)"
      ]
    },
    {
      "cell_type": "code",
      "execution_count": null,
      "metadata": {
        "colab": {
          "base_uri": "https://localhost:8080/"
        },
        "id": "38Dq3nDvNtjl",
        "outputId": "7ee71901-c5d2-4f56-f375-99ebf09b027c"
      },
      "outputs": [
        {
          "output_type": "stream",
          "name": "stdout",
          "text": [
            "Train data:\n",
            "=============\n",
            "present num_edges user->item: 8075\n",
            "to be predicted positive num_edges user->item: 3460\n",
            "to be predicted edge classes: tensor([1.])\n",
            "negative edge classes [0.] would be generated during training on-the-fly\n"
          ]
        }
      ],
      "source": [
        "print('Train data:')\n",
        "print('=============')\n",
        "print('present num_edges user->item:', train_data[\"user\", \"rates\", \"item\"].num_edges)\n",
        "print('to be predicted positive num_edges user->item:', train_data[\"user\", \"rates\", \"item\"].edge_label_index.shape[1])\n",
        "print('to be predicted edge classes:', torch.unique(train_data[\"user\", \"rates\", \"item\"].edge_label))\n",
        "print('negative edge classes [0.] would be generated during training on-the-fly')"
      ]
    },
    {
      "cell_type": "code",
      "execution_count": null,
      "metadata": {
        "id": "VQc_F9NbM-f8"
      },
      "outputs": [],
      "source": [
        "# Training data:\n",
        "# edge_index=[2, 1040140],      - number of edges to construct graph, 70% of edges for message passing,\n",
        "#                               - edges already present in the graph\n",
        "# edge_label=[445773],          - number of edges for training, 30% of edges for supervision.\n",
        "#                               - labels of missing edges, [0, 1] - 0 for negative edge, 1 for positive\n",
        "# edge_label_index=[2, 445773]  - edges that are absent in the graph for training "
      ]
    },
    {
      "cell_type": "markdown",
      "metadata": {
        "id": "Yxl8zwq2K-U3"
      },
      "source": [
        "So, we see that all the nodes are present both in training and validation data!\n",
        "\n",
        "As well as all the item_node features.\n",
        "\n",
        "Only the edge_index changes: which users connected to which items. Some of them are removed for train and val. "
      ]
    },
    {
      "cell_type": "markdown",
      "metadata": {
        "id": "jdrLqzjTSHBA"
      },
      "source": [
        "We are now ready to create a mini-batch loader that will generate subgraphs that can be used as input into our GNN. While this step is not strictly necessary for small-scale graphs, it is absolutely necessary to apply GNNs on larger graphs that do not fit onto GPU memory otherwise. Here, we make use of the loader.LinkNeighborLoader which samples multiple hops from both ends of a link and creates a subgraph from it. Here, edge_label_index serves as the \"seed links\" to start sampling from."
      ]
    },
    {
      "cell_type": "code",
      "execution_count": null,
      "metadata": {
        "colab": {
          "base_uri": "https://localhost:8080/"
        },
        "id": "9pBKaqa0HWhp",
        "outputId": "275953e8-ca19-420b-ce97-37ba730382c0"
      },
      "outputs": [
        {
          "output_type": "stream",
          "name": "stdout",
          "text": [
            "Sampled Train mini-batch:\n",
            "===================\n",
            "HeteroData(\n",
            "  \u001b[1muser\u001b[0m={\n",
            "    node_id=[949],\n",
            "    x=[949, 16],\n",
            "    n_id=[949]\n",
            "  },\n",
            "  \u001b[1mitem\u001b[0m={\n",
            "    node_id=[682],\n",
            "    x=[682, 768],\n",
            "    n_id=[682]\n",
            "  },\n",
            "  \u001b[1m(user, rates, item)\u001b[0m={\n",
            "    edge_index=[2, 2860],\n",
            "    edge_label=[256],\n",
            "    edge_label_index=[2, 256],\n",
            "    e_id=[2860],\n",
            "    input_id=[128]\n",
            "  },\n",
            "  \u001b[1m(item, rev_rates, user)\u001b[0m={\n",
            "    edge_index=[2, 3116],\n",
            "    e_id=[3116]\n",
            "  }\n",
            ")\n"
          ]
        },
        {
          "output_type": "stream",
          "name": "stderr",
          "text": [
            "/usr/local/lib/python3.10/dist-packages/torch_geometric/sampler/neighbor_sampler.py:58: UserWarning: Using '{self.__class__.__name__}' without a 'pyg-lib' installation is deprecated and will be removed soon. Please install 'pyg-lib' for accelerated neighborhood sampling\n",
            "  warnings.warn(\"Using '{self.__class__.__name__}' without a \"\n"
          ]
        }
      ],
      "source": [
        "# In the first hop, we sample at most 10 neighbors.\n",
        "# In the second hop, we sample at most 5 neighbors.\n",
        "# In addition, during training, we want to sample negative edges on-the-fly with\n",
        "# a ratio of 2:1.\n",
        "# We can make use of the `loader.LinkNeighborLoader` from PyG:\n",
        "# Define seed edges:\n",
        "edge_label_index = train_data[\"user\", \"rates\", \"item\"].edge_label_index\n",
        "edge_label = train_data[\"user\", \"rates\", \"item\"].edge_label\n",
        "\n",
        "train_loader = LinkNeighborLoader(\n",
        "    data=train_data,\n",
        "    num_neighbors=num_neighbors,\n",
        "    neg_sampling_ratio=neg_sampling_ratio,\n",
        "    edge_label_index=((\"user\", \"rates\", \"item\"), edge_label_index),\n",
        "    edge_label=edge_label,\n",
        "    batch_size=batch_size,\n",
        "    shuffle=True,\n",
        ")\n",
        "\n",
        "# Inspect a sample:\n",
        "sampled_data = next(iter(train_loader))\n",
        "\n",
        "print(\"Sampled Train mini-batch:\")\n",
        "print(\"===================\")\n",
        "print(sampled_data)\n",
        "\n",
        "assert sampled_data[\"user\", \"rates\", \"item\"].edge_label_index.size(1) == (neg_sampling_ratio + 1) * batch_size # 2 edges (1 pos + 1 neg) * batch_size\n",
        "assert sampled_data[\"user\", \"rates\", \"item\"].edge_label.min() == 0\n",
        "assert sampled_data[\"user\", \"rates\", \"item\"].edge_label.max() == 1"
      ]
    },
    {
      "cell_type": "code",
      "execution_count": null,
      "metadata": {
        "colab": {
          "base_uri": "https://localhost:8080/"
        },
        "id": "6yIF7mOCbIws",
        "outputId": "7cf4a434-fdbb-4e1a-9083-fc539396e89b"
      },
      "outputs": [
        {
          "output_type": "stream",
          "name": "stdout",
          "text": [
            "Sampled Validation mini-batch:\n",
            "===================\n",
            "HeteroData(\n",
            "  \u001b[1muser\u001b[0m={\n",
            "    node_id=[996],\n",
            "    x=[996, 16],\n",
            "    n_id=[996]\n",
            "  },\n",
            "  \u001b[1mitem\u001b[0m={\n",
            "    node_id=[691],\n",
            "    x=[691, 768],\n",
            "    n_id=[691]\n",
            "  },\n",
            "  \u001b[1m(user, rates, item)\u001b[0m={\n",
            "    edge_index=[2, 3532],\n",
            "    edge_label=[256],\n",
            "    edge_label_index=[2, 256],\n",
            "    e_id=[3532],\n",
            "    input_id=[256]\n",
            "  },\n",
            "  \u001b[1m(item, rev_rates, user)\u001b[0m={\n",
            "    edge_index=[2, 3873],\n",
            "    e_id=[3873]\n",
            "  }\n",
            ")\n"
          ]
        }
      ],
      "source": [
        "# Define the validation seed edges:\n",
        "edge_label_index = val_data[\"user\", \"rates\", \"item\"].edge_label_index\n",
        "edge_label = val_data[\"user\", \"rates\", \"item\"].edge_label\n",
        "\n",
        "val_loader = LinkNeighborLoader(\n",
        "    data=val_data,\n",
        "    num_neighbors=num_neighbors,\n",
        "    edge_label_index=((\"user\", \"rates\", \"item\"), edge_label_index),\n",
        "    edge_label=edge_label,\n",
        "    batch_size=int((neg_sampling_ratio + 1) * batch_size),\n",
        "    shuffle=False,\n",
        ")\n",
        "\n",
        "sampled_data = next(iter(val_loader))\n",
        "\n",
        "print(\"Sampled Validation mini-batch:\")\n",
        "print(\"===================\")\n",
        "print(sampled_data)\n",
        "\n",
        "assert sampled_data[\"user\", \"rates\", \"item\"].edge_label_index.size(1) == (neg_sampling_ratio + 1) * batch_size\n",
        "assert sampled_data[\"user\", \"rates\", \"item\"].edge_label.min() >= 0\n",
        "assert sampled_data[\"user\", \"rates\", \"item\"].edge_label.max() <= 1"
      ]
    },
    {
      "cell_type": "code",
      "execution_count": null,
      "metadata": {
        "colab": {
          "base_uri": "https://localhost:8080/"
        },
        "id": "RR3ZIEUldUhq",
        "outputId": "d6325d54-e4b8-4303-a9ee-c8cc1cad1001"
      },
      "outputs": [
        {
          "output_type": "stream",
          "name": "stdout",
          "text": [
            "Sampled Test mini-batch:\n",
            "===================\n",
            "HeteroData(\n",
            "  \u001b[1muser\u001b[0m={\n",
            "    node_id=[998],\n",
            "    x=[998, 16],\n",
            "    n_id=[998]\n",
            "  },\n",
            "  \u001b[1mitem\u001b[0m={\n",
            "    node_id=[683],\n",
            "    x=[683, 768],\n",
            "    n_id=[683]\n",
            "  },\n",
            "  \u001b[1m(user, rates, item)\u001b[0m={\n",
            "    edge_index=[2, 3511],\n",
            "    edge_label=[256],\n",
            "    edge_label_index=[2, 256],\n",
            "    e_id=[3511],\n",
            "    input_id=[256]\n",
            "  },\n",
            "  \u001b[1m(item, rev_rates, user)\u001b[0m={\n",
            "    edge_index=[2, 3980],\n",
            "    e_id=[3980]\n",
            "  }\n",
            ")\n"
          ]
        }
      ],
      "source": [
        "# Define the test seed edges:\n",
        "edge_label_index = test_data[\"user\", \"rates\", \"item\"].edge_label_index\n",
        "edge_label = test_data[\"user\", \"rates\", \"item\"].edge_label\n",
        "\n",
        "test_loader = LinkNeighborLoader(\n",
        "    data=test_data,\n",
        "    num_neighbors=num_neighbors,\n",
        "    edge_label_index=((\"user\", \"rates\", \"item\"), edge_label_index),\n",
        "    edge_label=edge_label,\n",
        "    batch_size=int((neg_sampling_ratio + 1) * batch_size),\n",
        "    shuffle=False,\n",
        ")\n",
        "\n",
        "sampled_data = next(iter(test_loader))\n",
        "\n",
        "print(\"Sampled Test mini-batch:\")\n",
        "print(\"===================\")\n",
        "print(sampled_data)\n",
        "\n",
        "assert sampled_data[\"user\", \"rates\", \"item\"].edge_label_index.size(1) == (neg_sampling_ratio + 1) * batch_size\n",
        "assert sampled_data[\"user\", \"rates\", \"item\"].edge_label.min() >= 0\n",
        "assert sampled_data[\"user\", \"rates\", \"item\"].edge_label.max() <= 1"
      ]
    },
    {
      "cell_type": "markdown",
      "metadata": {
        "id": "KnVkVNILVxwb"
      },
      "source": [
        "# 5. Model"
      ]
    },
    {
      "cell_type": "code",
      "execution_count": null,
      "metadata": {
        "id": "q733QhFPnU0P"
      },
      "outputs": [],
      "source": [
        "hidden_channels = 16                          # hyper: 16, 32, 64\n",
        "GNN_Conv_Layer = SAGEConv                     # hyper: SAGEConv, GATConv\n",
        "remove_embedding_layer = user_has_features    # False"
      ]
    },
    {
      "cell_type": "markdown",
      "metadata": {
        "id": "c7S1rJm-nVaG"
      },
      "source": [
        "#### Reload"
      ]
    },
    {
      "cell_type": "markdown",
      "metadata": {
        "id": "OiCyGjagTZc0"
      },
      "source": [
        "We are now ready to create our heterogeneous GNN. The GNN is responsible for learning enriched node representations from the surrounding subgraphs, which can be then used to derive edge-level predictions. For defining our heterogenous GNN, we make use of nn.SAGEConv and the nn.to_hetero() function, which transforms a GNN defined on homogeneous graphs to be applied on heterogeneous ones.\n",
        "In addition, we define a final link-level classifier, which simply takes both node embeddings of the link we are trying to predict, and applies a dot-product on them.\n",
        "As users do not have any node-level information, we choose to learn their features jointly via a torch.nn.Embedding layer. In order to improve the expressiveness of movie features, we do the same for movie nodes, and simply add their shallow embeddings to the pre-defined genre features."
      ]
    },
    {
      "cell_type": "code",
      "execution_count": null,
      "metadata": {
        "id": "xcqPBRV8Vyrz"
      },
      "outputs": [],
      "source": [
        "class GNN(torch.nn.Module):\n",
        "    def __init__(self, hidden_channels):\n",
        "        super().__init__()\n",
        "        if GNN_Conv_Layer == GATConv:\n",
        "            self.conv1 = GNN_Conv_Layer(hidden_channels, hidden_channels, add_self_loops=False)\n",
        "            self.conv2 = GNN_Conv_Layer(hidden_channels, hidden_channels, add_self_loops=False)\n",
        "        else:\n",
        "            self.conv1 = GNN_Conv_Layer(hidden_channels, hidden_channels)\n",
        "            self.conv2 = GNN_Conv_Layer(hidden_channels, hidden_channels)\n",
        "\n",
        "    def forward(self, x: Tensor, edge_index: Tensor) -> Tensor:\n",
        "        # Define a 2-layer GNN computation graph.\n",
        "        # Use a *single* `ReLU` non-linearity in-between.\n",
        "        x = self.conv1(x, edge_index).relu()\n",
        "        x = self.conv2(x, edge_index)\n",
        "        return x\n",
        "\n",
        "# Our final classifier applies the dot-product between source and destination\n",
        "# node embeddings to derive edge-level predictions:\n",
        "class Classifier(torch.nn.Module):\n",
        "    def forward(self, x_user: Tensor, x_item: Tensor, edge_label_index: Tensor) -> Tensor:\n",
        "        # Convert node embeddings to edge-level representations:\n",
        "        edge_feat_user = x_user[edge_label_index[0]]    # feat[ids of users in coo]\n",
        "        edge_feat_item = x_item[edge_label_index[1]]    # feat[ids of items in coo]\n",
        "\n",
        "        # Apply dot-product to get a prediction per supervision edge:\n",
        "        return (edge_feat_user * edge_feat_item).sum(dim=-1)\n",
        "\n",
        "\n",
        "class Model(torch.nn.Module):\n",
        "    def __init__(self, user_fsize, item_fsize, num_user_nodes, num_item_nodes, hidden_channels, graph_metadata):\n",
        "        super().__init__()\n",
        "        # learn embedding matrices for users and items:\n",
        "        if remove_embedding_layer:\n",
        "          self.user_lin = torch.nn.Linear(user_fsize, hidden_channels)\n",
        "        else:\n",
        "          self.user_emb = torch.nn.Embedding(num_user_nodes, hidden_channels)\n",
        "          self.item_emb = torch.nn.Embedding(num_item_nodes, hidden_channels)\n",
        "\n",
        "        self.item_lin = torch.nn.Linear(item_fsize, hidden_channels)\n",
        "\n",
        "        # Instantiate homogeneous GNN:\n",
        "        self.gnn = GNN(hidden_channels)     # Encoder\n",
        "        # Convert GNN model into a heterogeneous variant:\n",
        "        self.gnn = to_hetero(self.gnn, metadata=graph_metadata, aggr='mean')\n",
        "        self.classifier = Classifier()      # Deocder\n",
        "\n",
        "    def forward(self, data: HeteroData) -> Tensor:\n",
        "        if remove_embedding_layer:\n",
        "          x_dict = {\n",
        "            \"user\": self.user_lin(data[\"user\"].x),\n",
        "            \"item\": self.item_lin(data[\"item\"].x),\n",
        "          }\n",
        "        else:\n",
        "          x_dict = {\n",
        "            \"user\": self.user_emb(data[\"user\"].node_id),\n",
        "            \"item\": self.item_lin(data[\"item\"].x) + self.item_emb(data[\"item\"].node_id),\n",
        "          }\n",
        "\n",
        "        # `x_dict` holds feature matrices of all node types\n",
        "        # `edge_index_dict` holds all edge indices of all edge types\n",
        "        # Encode\n",
        "        x_dict = self.gnn(x_dict, data.edge_index_dict)\n",
        "        # Decode\n",
        "        pred = self.classifier(\n",
        "            x_dict[\"user\"],\n",
        "            x_dict[\"item\"],\n",
        "            data[\"user\", \"rates\", \"item\"].edge_label_index,\n",
        "        )\n",
        "\n",
        "        return pred"
      ]
    },
    {
      "cell_type": "code",
      "execution_count": null,
      "metadata": {
        "colab": {
          "base_uri": "https://localhost:8080/"
        },
        "id": "ljEvX9jJWRaJ",
        "outputId": "2caeb03f-ae23-4241-fca9-418ea844ee54"
      },
      "outputs": [
        {
          "output_type": "stream",
          "name": "stdout",
          "text": [
            "Device: 'cpu'\n",
            "Model(\n",
            "  (user_lin): Linear(in_features=16, out_features=16, bias=True)\n",
            "  (item_lin): Linear(in_features=768, out_features=16, bias=True)\n",
            "  (gnn): GraphModule(\n",
            "    (conv1): ModuleDict(\n",
            "      (user__rates__item): SAGEConv(16, 16, aggr=mean)\n",
            "      (item__rev_rates__user): SAGEConv(16, 16, aggr=mean)\n",
            "    )\n",
            "    (conv2): ModuleDict(\n",
            "      (user__rates__item): SAGEConv(16, 16, aggr=mean)\n",
            "      (item__rev_rates__user): SAGEConv(16, 16, aggr=mean)\n",
            "    )\n",
            "  )\n",
            "  (classifier): Classifier()\n",
            ")\n"
          ]
        }
      ],
      "source": [
        "# data contains the whole graph\n",
        "num_user_nodes = data[\"user\"].num_nodes\n",
        "num_item_nodes = data[\"item\"].num_nodes\n",
        "graph_metadata = data.metadata()\n",
        "\n",
        "model = Model(user_feature_size, item_feature_size, num_user_nodes, num_item_nodes, hidden_channels, graph_metadata)\n",
        "model = model.to(device)\n",
        "print(f\"Device: '{device}'\")\n",
        "print(model)\n",
        "\n",
        "optimizer = torch.optim.Adam(model.parameters(), lr=0.001)\n",
        "criterion = F.binary_cross_entropy_with_logits"
      ]
    },
    {
      "cell_type": "markdown",
      "metadata": {
        "id": "lYfgW6WtGz-2"
      },
      "source": [
        "# 6. Experiments"
      ]
    },
    {
      "cell_type": "markdown",
      "metadata": {
        "id": "9pmlyNj1GlYd"
      },
      "source": [
        "question is: is it enough to just translate news to english and use english recommender model?\n",
        "or can use single multiling model for multiple languages?\n",
        "or should we use a separate model for each language?\n",
        "\n",
        "hypothesis: multiling is the best"
      ]
    },
    {
      "cell_type": "code",
      "execution_count": null,
      "metadata": {
        "id": "MEGQDawl5qwg"
      },
      "outputs": [],
      "source": [
        "epochs = 10      # mind=1, adressa=2, cit=50 "
      ]
    },
    {
      "cell_type": "markdown",
      "metadata": {
        "id": "tvd3aIID5oZp"
      },
      "source": [
        "#### Reload"
      ]
    },
    {
      "cell_type": "code",
      "execution_count": null,
      "metadata": {
        "colab": {
          "base_uri": "https://localhost:8080/"
        },
        "id": "4nTaFiMwXU6R",
        "outputId": "19ae7701-bc87-405f-a202-d0e859b4295d"
      },
      "outputs": [
        {
          "output_type": "stream",
          "name": "stderr",
          "text": [
            "100%|██████████| 28/28 [00:01<00:00, 17.75it/s]\n"
          ]
        },
        {
          "output_type": "stream",
          "name": "stdout",
          "text": [
            "\n",
            "Epoch: 001, Loss: 0.6875\n"
          ]
        },
        {
          "output_type": "stream",
          "name": "stderr",
          "text": [
            "100%|██████████| 28/28 [00:01<00:00, 17.74it/s]\n"
          ]
        },
        {
          "output_type": "stream",
          "name": "stdout",
          "text": [
            "\n",
            "Epoch: 002, Loss: 0.6642\n"
          ]
        },
        {
          "output_type": "stream",
          "name": "stderr",
          "text": [
            "100%|██████████| 28/28 [00:01<00:00, 16.65it/s]\n"
          ]
        },
        {
          "output_type": "stream",
          "name": "stdout",
          "text": [
            "\n",
            "Epoch: 003, Loss: 0.6514\n"
          ]
        },
        {
          "output_type": "stream",
          "name": "stderr",
          "text": [
            "100%|██████████| 28/28 [00:01<00:00, 16.95it/s]\n"
          ]
        },
        {
          "output_type": "stream",
          "name": "stdout",
          "text": [
            "\n",
            "Epoch: 004, Loss: 0.6413\n"
          ]
        },
        {
          "output_type": "stream",
          "name": "stderr",
          "text": [
            "100%|██████████| 28/28 [00:00<00:00, 28.78it/s]\n"
          ]
        },
        {
          "output_type": "stream",
          "name": "stdout",
          "text": [
            "\n",
            "Epoch: 005, Loss: 0.6245\n"
          ]
        },
        {
          "output_type": "stream",
          "name": "stderr",
          "text": [
            "100%|██████████| 28/28 [00:01<00:00, 20.47it/s]\n"
          ]
        },
        {
          "output_type": "stream",
          "name": "stdout",
          "text": [
            "\n",
            "Epoch: 006, Loss: 0.6087\n"
          ]
        },
        {
          "output_type": "stream",
          "name": "stderr",
          "text": [
            "100%|██████████| 28/28 [00:00<00:00, 57.32it/s]\n"
          ]
        },
        {
          "output_type": "stream",
          "name": "stdout",
          "text": [
            "\n",
            "Epoch: 007, Loss: 0.6102\n"
          ]
        },
        {
          "output_type": "stream",
          "name": "stderr",
          "text": [
            "100%|██████████| 28/28 [00:00<00:00, 57.95it/s]\n"
          ]
        },
        {
          "output_type": "stream",
          "name": "stdout",
          "text": [
            "\n",
            "Epoch: 008, Loss: 0.5969\n"
          ]
        },
        {
          "output_type": "stream",
          "name": "stderr",
          "text": [
            "100%|██████████| 28/28 [00:00<00:00, 60.78it/s]\n"
          ]
        },
        {
          "output_type": "stream",
          "name": "stdout",
          "text": [
            "\n",
            "Epoch: 009, Loss: 0.6060\n"
          ]
        },
        {
          "output_type": "stream",
          "name": "stderr",
          "text": [
            "100%|██████████| 28/28 [00:00<00:00, 56.87it/s]"
          ]
        },
        {
          "output_type": "stream",
          "name": "stdout",
          "text": [
            "\n",
            "Epoch: 010, Loss: 0.5995\n"
          ]
        },
        {
          "output_type": "stream",
          "name": "stderr",
          "text": [
            "\n"
          ]
        }
      ],
      "source": [
        "# training\n",
        "train_loss = []\n",
        "for epoch in range(1, epochs+1):\n",
        "    model.train()\n",
        "    total_loss = total_examples = 0\n",
        "    for batch_data in tqdm.tqdm(train_loader):\n",
        "        optimizer.zero_grad()\n",
        "        batch_data = batch_data.to(device)\n",
        "        \n",
        "        pred = model(batch_data) # `forward` pass of the model\n",
        "        ground_truth = batch_data['user', 'item'].edge_label\n",
        "        \n",
        "        loss = criterion(pred, ground_truth)\n",
        "        loss.backward()\n",
        "        optimizer.step()\n",
        "        total_loss += float(loss) * pred.numel()\n",
        "        total_examples += pred.numel()\n",
        "    \n",
        "    epoch_loss = total_loss / total_examples\n",
        "    train_loss.append(epoch_loss)\n",
        "    print(f\"\\nEpoch: {epoch:03d}, Loss: {epoch_loss:.4f}\")"
      ]
    },
    {
      "cell_type": "code",
      "execution_count": null,
      "metadata": {
        "colab": {
          "base_uri": "https://localhost:8080/"
        },
        "id": "EYEp1yHTXXjg",
        "outputId": "0a2957b9-535a-440e-d7ee-39c635c89352"
      },
      "outputs": [
        {
          "output_type": "stream",
          "name": "stderr",
          "text": [
            "100%|██████████| 12/12 [00:00<00:00, 63.14it/s]\n"
          ]
        },
        {
          "output_type": "stream",
          "name": "stdout",
          "text": [
            "\n",
            "Validation AUC: 0.7312\n",
            "Neg sampling ratio: 1.0\n",
            "Num neighbors: [10, 5]\n",
            "Hidden channels: 16\n",
            "GNN_Conv_Layer: <class 'torch_geometric.nn.conv.sage_conv.SAGEConv'>\n"
          ]
        }
      ],
      "source": [
        "# validation\n",
        "preds, ground_truths = [], []\n",
        "model.eval()\n",
        "for batch_data in tqdm.tqdm(val_loader):\n",
        "    with torch.no_grad():\n",
        "        batch_data = batch_data.to(device)\n",
        "        preds.append(model(batch_data))\n",
        "        ground_truths.append(batch_data['user', 'item'].edge_label)\n",
        "\n",
        "pred = torch.cat(preds, dim=0).cpu().numpy()\n",
        "ground_truth = torch.cat(ground_truths, dim=0).cpu().numpy()\n",
        "auc = roc_auc_score(ground_truth, pred)\n",
        "print()\n",
        "print(f\"Validation AUC: {auc:.4f}\")\n",
        "print(f'Neg sampling ratio:', neg_sampling_ratio)\n",
        "print(f'Num neighbors:', num_neighbors)      \n",
        "print(f'Hidden channels:',hidden_channels)\n",
        "print(f'GNN_Conv_Layer:', GNN_Conv_Layer)\n"
      ]
    },
    {
      "cell_type": "code",
      "execution_count": null,
      "metadata": {
        "colab": {
          "base_uri": "https://localhost:8080/"
        },
        "id": "UxV2PQvNcJM8",
        "outputId": "c3fe0c5a-48dc-49d2-974a-796698ce7ecd"
      },
      "outputs": [
        {
          "output_type": "stream",
          "name": "stderr",
          "text": [
            "100%|██████████| 12/12 [00:00<00:00, 40.80it/s]"
          ]
        },
        {
          "output_type": "stream",
          "name": "stdout",
          "text": [
            "\n",
            "Test AUC: 0.7146\n"
          ]
        },
        {
          "output_type": "stream",
          "name": "stderr",
          "text": [
            "\n"
          ]
        }
      ],
      "source": [
        "# test\n",
        "preds, ground_truths = [], []\n",
        "model.eval()\n",
        "for batch_data in tqdm.tqdm(test_loader):\n",
        "    with torch.no_grad():\n",
        "        batch_data = batch_data.to(device)\n",
        "        preds.append(model(batch_data))\n",
        "        ground_truths.append(batch_data['user', 'item'].edge_label)\n",
        "\n",
        "pred = torch.cat(preds, dim=0).cpu().numpy()\n",
        "ground_truth = torch.cat(ground_truths, dim=0).cpu().numpy()\n",
        "auc = roc_auc_score(ground_truth, pred)\n",
        "print()\n",
        "print(f\"Test AUC: {auc:.4f}\")"
      ]
    },
    {
      "cell_type": "markdown",
      "source": [
        "# Main.py"
      ],
      "metadata": {
        "id": "nVUL8jC_U0xR"
      }
    },
    {
      "cell_type": "markdown",
      "source": [
        "Purpose of this part is to use latest version of `main.py` from git with free Colab GPU.\n",
        "\n",
        "To run the following cells, you need to clone git repo to MyDrive."
      ],
      "metadata": {
        "id": "lB-puxgLZxKd"
      }
    },
    {
      "cell_type": "code",
      "source": [
        "!git clone https://github.com/mbekmyrz/newsrec.git"
      ],
      "metadata": {
        "colab": {
          "base_uri": "https://localhost:8080/"
        },
        "id": "A-b7iLpxVrLl",
        "outputId": "5610573c-4dbf-465b-8536-1099dc153077"
      },
      "execution_count": null,
      "outputs": [
        {
          "output_type": "stream",
          "name": "stdout",
          "text": [
            "Cloning into 'newsrec'...\n",
            "remote: Enumerating objects: 84, done.\u001b[K\n",
            "remote: Counting objects: 100% (84/84), done.\u001b[K\n",
            "remote: Compressing objects: 100% (60/60), done.\u001b[K\n",
            "remote: Total 84 (delta 33), reused 68 (delta 20), pack-reused 0\u001b[K\n",
            "Unpacking objects: 100% (84/84), 7.46 MiB | 2.48 MiB/s, done.\n"
          ]
        }
      ]
    },
    {
      "cell_type": "code",
      "source": [
        "# We copy datasets into newsrec repo folder\n",
        "!cp -r datasets newsrec/"
      ],
      "metadata": {
        "id": "Q6HI3XwFV0kn"
      },
      "execution_count": null,
      "outputs": []
    },
    {
      "cell_type": "code",
      "source": [
        "os.chdir('./newsrec')\n",
        "!ls"
      ],
      "metadata": {
        "id": "-mOTrZHrWfUq"
      },
      "execution_count": null,
      "outputs": []
    },
    {
      "cell_type": "code",
      "source": [
        "!python3 main.py --data \"cit_pt\" --plm \"ptbert\" --use_seperate_test_data --epochs 20 > logs_cit_pt_ptbert_seperate.txt"
      ],
      "metadata": {
        "id": "6wKckZR6U1eY"
      },
      "execution_count": null,
      "outputs": []
    }
  ],
  "metadata": {
    "colab": {
      "collapsed_sections": [
        "tKXbZ3RnQ3dK",
        "iLHqvBtQo0CP",
        "Ht-mz6xrWjSD",
        "nN8ohWKDdVUB",
        "76KthyI_dkg5",
        "LJkOBeTAh_rI",
        "IViafCqFV30_",
        "N90-Vmt3kRQo",
        "pyRzWXaPXX5z",
        "PDt4nn1XjHwH",
        "r_2X77cujO4q",
        "jpujvRk1Xh6_",
        "e76wvRVnXZ0g",
        "aD9WmCpPktj2",
        "DcZnnYzQkwG7",
        "NcHuqMIyX6Bo",
        "LMxsCJ7ad2i3",
        "DY1r0qbhVhYU",
        "QpAfoWmOce5p",
        "Y8sZlt0xjno1",
        "789qIyS6jwwu",
        "FDqZQlwbXcHQ",
        "GV5YVj5nnMbZ",
        "OejQQfBeV_wI",
        "IFTK2qz_11sU",
        "_Tui0AKpdJl4",
        "KnVkVNILVxwb",
        "lYfgW6WtGz-2"
      ],
      "provenance": []
    },
    "gpuClass": "standard",
    "kernelspec": {
      "display_name": "Python 3",
      "name": "python3"
    },
    "language_info": {
      "codemirror_mode": {
        "name": "ipython",
        "version": 3
      },
      "file_extension": ".py",
      "mimetype": "text/x-python",
      "name": "python",
      "nbconvert_exporter": "python",
      "pygments_lexer": "ipython3",
      "version": "3.10.7"
    },
    "widgets": {
      "application/vnd.jupyter.widget-state+json": {
        "8a4a30e6d1bd483a86aa8a840cddc3bd": {
          "model_module": "@jupyter-widgets/controls",
          "model_name": "HBoxModel",
          "model_module_version": "1.5.0",
          "state": {
            "_dom_classes": [],
            "_model_module": "@jupyter-widgets/controls",
            "_model_module_version": "1.5.0",
            "_model_name": "HBoxModel",
            "_view_count": null,
            "_view_module": "@jupyter-widgets/controls",
            "_view_module_version": "1.5.0",
            "_view_name": "HBoxView",
            "box_style": "",
            "children": [
              "IPY_MODEL_eb8cb3324dd446e2a4a99b30eca5aba9",
              "IPY_MODEL_e486d9e90ab24044a9cbb5edd4c34121",
              "IPY_MODEL_9d24d5894e064e75a27771c674f3409a"
            ],
            "layout": "IPY_MODEL_297a978ffa8f4c7ca170116023eaf90e"
          }
        },
        "eb8cb3324dd446e2a4a99b30eca5aba9": {
          "model_module": "@jupyter-widgets/controls",
          "model_name": "HTMLModel",
          "model_module_version": "1.5.0",
          "state": {
            "_dom_classes": [],
            "_model_module": "@jupyter-widgets/controls",
            "_model_module_version": "1.5.0",
            "_model_name": "HTMLModel",
            "_view_count": null,
            "_view_module": "@jupyter-widgets/controls",
            "_view_module_version": "1.5.0",
            "_view_name": "HTMLView",
            "description": "",
            "description_tooltip": null,
            "layout": "IPY_MODEL_a631e5321b244532b36832e14da4acf0",
            "placeholder": "​",
            "style": "IPY_MODEL_a9067c8237164a42bb43fde2f1e6e34f",
            "value": "Downloading (…)lve/main/config.json: 100%"
          }
        },
        "e486d9e90ab24044a9cbb5edd4c34121": {
          "model_module": "@jupyter-widgets/controls",
          "model_name": "FloatProgressModel",
          "model_module_version": "1.5.0",
          "state": {
            "_dom_classes": [],
            "_model_module": "@jupyter-widgets/controls",
            "_model_module_version": "1.5.0",
            "_model_name": "FloatProgressModel",
            "_view_count": null,
            "_view_module": "@jupyter-widgets/controls",
            "_view_module_version": "1.5.0",
            "_view_name": "ProgressView",
            "bar_style": "success",
            "description": "",
            "description_tooltip": null,
            "layout": "IPY_MODEL_0c3107cacdde45a8b9ca7bc100840e4d",
            "max": 647,
            "min": 0,
            "orientation": "horizontal",
            "style": "IPY_MODEL_c326211601564d1c9d21bb7b500cf55c",
            "value": 647
          }
        },
        "9d24d5894e064e75a27771c674f3409a": {
          "model_module": "@jupyter-widgets/controls",
          "model_name": "HTMLModel",
          "model_module_version": "1.5.0",
          "state": {
            "_dom_classes": [],
            "_model_module": "@jupyter-widgets/controls",
            "_model_module_version": "1.5.0",
            "_model_name": "HTMLModel",
            "_view_count": null,
            "_view_module": "@jupyter-widgets/controls",
            "_view_module_version": "1.5.0",
            "_view_name": "HTMLView",
            "description": "",
            "description_tooltip": null,
            "layout": "IPY_MODEL_11a9cc2984364c3596638ea3cfbef594",
            "placeholder": "​",
            "style": "IPY_MODEL_8185e39972a34c0080c51a48016ad982",
            "value": " 647/647 [00:00&lt;00:00, 7.69kB/s]"
          }
        },
        "297a978ffa8f4c7ca170116023eaf90e": {
          "model_module": "@jupyter-widgets/base",
          "model_name": "LayoutModel",
          "model_module_version": "1.2.0",
          "state": {
            "_model_module": "@jupyter-widgets/base",
            "_model_module_version": "1.2.0",
            "_model_name": "LayoutModel",
            "_view_count": null,
            "_view_module": "@jupyter-widgets/base",
            "_view_module_version": "1.2.0",
            "_view_name": "LayoutView",
            "align_content": null,
            "align_items": null,
            "align_self": null,
            "border": null,
            "bottom": null,
            "display": null,
            "flex": null,
            "flex_flow": null,
            "grid_area": null,
            "grid_auto_columns": null,
            "grid_auto_flow": null,
            "grid_auto_rows": null,
            "grid_column": null,
            "grid_gap": null,
            "grid_row": null,
            "grid_template_areas": null,
            "grid_template_columns": null,
            "grid_template_rows": null,
            "height": null,
            "justify_content": null,
            "justify_items": null,
            "left": null,
            "margin": null,
            "max_height": null,
            "max_width": null,
            "min_height": null,
            "min_width": null,
            "object_fit": null,
            "object_position": null,
            "order": null,
            "overflow": null,
            "overflow_x": null,
            "overflow_y": null,
            "padding": null,
            "right": null,
            "top": null,
            "visibility": null,
            "width": null
          }
        },
        "a631e5321b244532b36832e14da4acf0": {
          "model_module": "@jupyter-widgets/base",
          "model_name": "LayoutModel",
          "model_module_version": "1.2.0",
          "state": {
            "_model_module": "@jupyter-widgets/base",
            "_model_module_version": "1.2.0",
            "_model_name": "LayoutModel",
            "_view_count": null,
            "_view_module": "@jupyter-widgets/base",
            "_view_module_version": "1.2.0",
            "_view_name": "LayoutView",
            "align_content": null,
            "align_items": null,
            "align_self": null,
            "border": null,
            "bottom": null,
            "display": null,
            "flex": null,
            "flex_flow": null,
            "grid_area": null,
            "grid_auto_columns": null,
            "grid_auto_flow": null,
            "grid_auto_rows": null,
            "grid_column": null,
            "grid_gap": null,
            "grid_row": null,
            "grid_template_areas": null,
            "grid_template_columns": null,
            "grid_template_rows": null,
            "height": null,
            "justify_content": null,
            "justify_items": null,
            "left": null,
            "margin": null,
            "max_height": null,
            "max_width": null,
            "min_height": null,
            "min_width": null,
            "object_fit": null,
            "object_position": null,
            "order": null,
            "overflow": null,
            "overflow_x": null,
            "overflow_y": null,
            "padding": null,
            "right": null,
            "top": null,
            "visibility": null,
            "width": null
          }
        },
        "a9067c8237164a42bb43fde2f1e6e34f": {
          "model_module": "@jupyter-widgets/controls",
          "model_name": "DescriptionStyleModel",
          "model_module_version": "1.5.0",
          "state": {
            "_model_module": "@jupyter-widgets/controls",
            "_model_module_version": "1.5.0",
            "_model_name": "DescriptionStyleModel",
            "_view_count": null,
            "_view_module": "@jupyter-widgets/base",
            "_view_module_version": "1.2.0",
            "_view_name": "StyleView",
            "description_width": ""
          }
        },
        "0c3107cacdde45a8b9ca7bc100840e4d": {
          "model_module": "@jupyter-widgets/base",
          "model_name": "LayoutModel",
          "model_module_version": "1.2.0",
          "state": {
            "_model_module": "@jupyter-widgets/base",
            "_model_module_version": "1.2.0",
            "_model_name": "LayoutModel",
            "_view_count": null,
            "_view_module": "@jupyter-widgets/base",
            "_view_module_version": "1.2.0",
            "_view_name": "LayoutView",
            "align_content": null,
            "align_items": null,
            "align_self": null,
            "border": null,
            "bottom": null,
            "display": null,
            "flex": null,
            "flex_flow": null,
            "grid_area": null,
            "grid_auto_columns": null,
            "grid_auto_flow": null,
            "grid_auto_rows": null,
            "grid_column": null,
            "grid_gap": null,
            "grid_row": null,
            "grid_template_areas": null,
            "grid_template_columns": null,
            "grid_template_rows": null,
            "height": null,
            "justify_content": null,
            "justify_items": null,
            "left": null,
            "margin": null,
            "max_height": null,
            "max_width": null,
            "min_height": null,
            "min_width": null,
            "object_fit": null,
            "object_position": null,
            "order": null,
            "overflow": null,
            "overflow_x": null,
            "overflow_y": null,
            "padding": null,
            "right": null,
            "top": null,
            "visibility": null,
            "width": null
          }
        },
        "c326211601564d1c9d21bb7b500cf55c": {
          "model_module": "@jupyter-widgets/controls",
          "model_name": "ProgressStyleModel",
          "model_module_version": "1.5.0",
          "state": {
            "_model_module": "@jupyter-widgets/controls",
            "_model_module_version": "1.5.0",
            "_model_name": "ProgressStyleModel",
            "_view_count": null,
            "_view_module": "@jupyter-widgets/base",
            "_view_module_version": "1.2.0",
            "_view_name": "StyleView",
            "bar_color": null,
            "description_width": ""
          }
        },
        "11a9cc2984364c3596638ea3cfbef594": {
          "model_module": "@jupyter-widgets/base",
          "model_name": "LayoutModel",
          "model_module_version": "1.2.0",
          "state": {
            "_model_module": "@jupyter-widgets/base",
            "_model_module_version": "1.2.0",
            "_model_name": "LayoutModel",
            "_view_count": null,
            "_view_module": "@jupyter-widgets/base",
            "_view_module_version": "1.2.0",
            "_view_name": "LayoutView",
            "align_content": null,
            "align_items": null,
            "align_self": null,
            "border": null,
            "bottom": null,
            "display": null,
            "flex": null,
            "flex_flow": null,
            "grid_area": null,
            "grid_auto_columns": null,
            "grid_auto_flow": null,
            "grid_auto_rows": null,
            "grid_column": null,
            "grid_gap": null,
            "grid_row": null,
            "grid_template_areas": null,
            "grid_template_columns": null,
            "grid_template_rows": null,
            "height": null,
            "justify_content": null,
            "justify_items": null,
            "left": null,
            "margin": null,
            "max_height": null,
            "max_width": null,
            "min_height": null,
            "min_width": null,
            "object_fit": null,
            "object_position": null,
            "order": null,
            "overflow": null,
            "overflow_x": null,
            "overflow_y": null,
            "padding": null,
            "right": null,
            "top": null,
            "visibility": null,
            "width": null
          }
        },
        "8185e39972a34c0080c51a48016ad982": {
          "model_module": "@jupyter-widgets/controls",
          "model_name": "DescriptionStyleModel",
          "model_module_version": "1.5.0",
          "state": {
            "_model_module": "@jupyter-widgets/controls",
            "_model_module_version": "1.5.0",
            "_model_name": "DescriptionStyleModel",
            "_view_count": null,
            "_view_module": "@jupyter-widgets/base",
            "_view_module_version": "1.2.0",
            "_view_name": "StyleView",
            "description_width": ""
          }
        },
        "c5dc980907824b988e6e55516fed2824": {
          "model_module": "@jupyter-widgets/controls",
          "model_name": "HBoxModel",
          "model_module_version": "1.5.0",
          "state": {
            "_dom_classes": [],
            "_model_module": "@jupyter-widgets/controls",
            "_model_module_version": "1.5.0",
            "_model_name": "HBoxModel",
            "_view_count": null,
            "_view_module": "@jupyter-widgets/controls",
            "_view_module_version": "1.5.0",
            "_view_name": "HBoxView",
            "box_style": "",
            "children": [
              "IPY_MODEL_d02b23fe10094f798e7d0805a29756ff",
              "IPY_MODEL_980b63bfebe24c1990b4276121d77b5c",
              "IPY_MODEL_166c41edca954a79a98a14840348af2d"
            ],
            "layout": "IPY_MODEL_7970be904b184cc0b8c903a20def93a5"
          }
        },
        "d02b23fe10094f798e7d0805a29756ff": {
          "model_module": "@jupyter-widgets/controls",
          "model_name": "HTMLModel",
          "model_module_version": "1.5.0",
          "state": {
            "_dom_classes": [],
            "_model_module": "@jupyter-widgets/controls",
            "_model_module_version": "1.5.0",
            "_model_name": "HTMLModel",
            "_view_count": null,
            "_view_module": "@jupyter-widgets/controls",
            "_view_module_version": "1.5.0",
            "_view_name": "HTMLView",
            "description": "",
            "description_tooltip": null,
            "layout": "IPY_MODEL_5cb5f46c2c474636bde3bebc1c99fb49",
            "placeholder": "​",
            "style": "IPY_MODEL_b3e2acedd51e4dfe87f625904c91581c",
            "value": "Downloading pytorch_model.bin: 100%"
          }
        },
        "980b63bfebe24c1990b4276121d77b5c": {
          "model_module": "@jupyter-widgets/controls",
          "model_name": "FloatProgressModel",
          "model_module_version": "1.5.0",
          "state": {
            "_dom_classes": [],
            "_model_module": "@jupyter-widgets/controls",
            "_model_module_version": "1.5.0",
            "_model_name": "FloatProgressModel",
            "_view_count": null,
            "_view_module": "@jupyter-widgets/controls",
            "_view_module_version": "1.5.0",
            "_view_name": "ProgressView",
            "bar_style": "success",
            "description": "",
            "description_tooltip": null,
            "layout": "IPY_MODEL_930d19749db74eed9ee42b538654ee4d",
            "max": 438235074,
            "min": 0,
            "orientation": "horizontal",
            "style": "IPY_MODEL_bb8871be5371474e83d9ae8cc8b0f373",
            "value": 438235074
          }
        },
        "166c41edca954a79a98a14840348af2d": {
          "model_module": "@jupyter-widgets/controls",
          "model_name": "HTMLModel",
          "model_module_version": "1.5.0",
          "state": {
            "_dom_classes": [],
            "_model_module": "@jupyter-widgets/controls",
            "_model_module_version": "1.5.0",
            "_model_name": "HTMLModel",
            "_view_count": null,
            "_view_module": "@jupyter-widgets/controls",
            "_view_module_version": "1.5.0",
            "_view_name": "HTMLView",
            "description": "",
            "description_tooltip": null,
            "layout": "IPY_MODEL_d155934987f545a4b9aca22ab3ac1544",
            "placeholder": "​",
            "style": "IPY_MODEL_aa560995266e49ffb72ed907af78460a",
            "value": " 438M/438M [00:06&lt;00:00, 68.0MB/s]"
          }
        },
        "7970be904b184cc0b8c903a20def93a5": {
          "model_module": "@jupyter-widgets/base",
          "model_name": "LayoutModel",
          "model_module_version": "1.2.0",
          "state": {
            "_model_module": "@jupyter-widgets/base",
            "_model_module_version": "1.2.0",
            "_model_name": "LayoutModel",
            "_view_count": null,
            "_view_module": "@jupyter-widgets/base",
            "_view_module_version": "1.2.0",
            "_view_name": "LayoutView",
            "align_content": null,
            "align_items": null,
            "align_self": null,
            "border": null,
            "bottom": null,
            "display": null,
            "flex": null,
            "flex_flow": null,
            "grid_area": null,
            "grid_auto_columns": null,
            "grid_auto_flow": null,
            "grid_auto_rows": null,
            "grid_column": null,
            "grid_gap": null,
            "grid_row": null,
            "grid_template_areas": null,
            "grid_template_columns": null,
            "grid_template_rows": null,
            "height": null,
            "justify_content": null,
            "justify_items": null,
            "left": null,
            "margin": null,
            "max_height": null,
            "max_width": null,
            "min_height": null,
            "min_width": null,
            "object_fit": null,
            "object_position": null,
            "order": null,
            "overflow": null,
            "overflow_x": null,
            "overflow_y": null,
            "padding": null,
            "right": null,
            "top": null,
            "visibility": null,
            "width": null
          }
        },
        "5cb5f46c2c474636bde3bebc1c99fb49": {
          "model_module": "@jupyter-widgets/base",
          "model_name": "LayoutModel",
          "model_module_version": "1.2.0",
          "state": {
            "_model_module": "@jupyter-widgets/base",
            "_model_module_version": "1.2.0",
            "_model_name": "LayoutModel",
            "_view_count": null,
            "_view_module": "@jupyter-widgets/base",
            "_view_module_version": "1.2.0",
            "_view_name": "LayoutView",
            "align_content": null,
            "align_items": null,
            "align_self": null,
            "border": null,
            "bottom": null,
            "display": null,
            "flex": null,
            "flex_flow": null,
            "grid_area": null,
            "grid_auto_columns": null,
            "grid_auto_flow": null,
            "grid_auto_rows": null,
            "grid_column": null,
            "grid_gap": null,
            "grid_row": null,
            "grid_template_areas": null,
            "grid_template_columns": null,
            "grid_template_rows": null,
            "height": null,
            "justify_content": null,
            "justify_items": null,
            "left": null,
            "margin": null,
            "max_height": null,
            "max_width": null,
            "min_height": null,
            "min_width": null,
            "object_fit": null,
            "object_position": null,
            "order": null,
            "overflow": null,
            "overflow_x": null,
            "overflow_y": null,
            "padding": null,
            "right": null,
            "top": null,
            "visibility": null,
            "width": null
          }
        },
        "b3e2acedd51e4dfe87f625904c91581c": {
          "model_module": "@jupyter-widgets/controls",
          "model_name": "DescriptionStyleModel",
          "model_module_version": "1.5.0",
          "state": {
            "_model_module": "@jupyter-widgets/controls",
            "_model_module_version": "1.5.0",
            "_model_name": "DescriptionStyleModel",
            "_view_count": null,
            "_view_module": "@jupyter-widgets/base",
            "_view_module_version": "1.2.0",
            "_view_name": "StyleView",
            "description_width": ""
          }
        },
        "930d19749db74eed9ee42b538654ee4d": {
          "model_module": "@jupyter-widgets/base",
          "model_name": "LayoutModel",
          "model_module_version": "1.2.0",
          "state": {
            "_model_module": "@jupyter-widgets/base",
            "_model_module_version": "1.2.0",
            "_model_name": "LayoutModel",
            "_view_count": null,
            "_view_module": "@jupyter-widgets/base",
            "_view_module_version": "1.2.0",
            "_view_name": "LayoutView",
            "align_content": null,
            "align_items": null,
            "align_self": null,
            "border": null,
            "bottom": null,
            "display": null,
            "flex": null,
            "flex_flow": null,
            "grid_area": null,
            "grid_auto_columns": null,
            "grid_auto_flow": null,
            "grid_auto_rows": null,
            "grid_column": null,
            "grid_gap": null,
            "grid_row": null,
            "grid_template_areas": null,
            "grid_template_columns": null,
            "grid_template_rows": null,
            "height": null,
            "justify_content": null,
            "justify_items": null,
            "left": null,
            "margin": null,
            "max_height": null,
            "max_width": null,
            "min_height": null,
            "min_width": null,
            "object_fit": null,
            "object_position": null,
            "order": null,
            "overflow": null,
            "overflow_x": null,
            "overflow_y": null,
            "padding": null,
            "right": null,
            "top": null,
            "visibility": null,
            "width": null
          }
        },
        "bb8871be5371474e83d9ae8cc8b0f373": {
          "model_module": "@jupyter-widgets/controls",
          "model_name": "ProgressStyleModel",
          "model_module_version": "1.5.0",
          "state": {
            "_model_module": "@jupyter-widgets/controls",
            "_model_module_version": "1.5.0",
            "_model_name": "ProgressStyleModel",
            "_view_count": null,
            "_view_module": "@jupyter-widgets/base",
            "_view_module_version": "1.2.0",
            "_view_name": "StyleView",
            "bar_color": null,
            "description_width": ""
          }
        },
        "d155934987f545a4b9aca22ab3ac1544": {
          "model_module": "@jupyter-widgets/base",
          "model_name": "LayoutModel",
          "model_module_version": "1.2.0",
          "state": {
            "_model_module": "@jupyter-widgets/base",
            "_model_module_version": "1.2.0",
            "_model_name": "LayoutModel",
            "_view_count": null,
            "_view_module": "@jupyter-widgets/base",
            "_view_module_version": "1.2.0",
            "_view_name": "LayoutView",
            "align_content": null,
            "align_items": null,
            "align_self": null,
            "border": null,
            "bottom": null,
            "display": null,
            "flex": null,
            "flex_flow": null,
            "grid_area": null,
            "grid_auto_columns": null,
            "grid_auto_flow": null,
            "grid_auto_rows": null,
            "grid_column": null,
            "grid_gap": null,
            "grid_row": null,
            "grid_template_areas": null,
            "grid_template_columns": null,
            "grid_template_rows": null,
            "height": null,
            "justify_content": null,
            "justify_items": null,
            "left": null,
            "margin": null,
            "max_height": null,
            "max_width": null,
            "min_height": null,
            "min_width": null,
            "object_fit": null,
            "object_position": null,
            "order": null,
            "overflow": null,
            "overflow_x": null,
            "overflow_y": null,
            "padding": null,
            "right": null,
            "top": null,
            "visibility": null,
            "width": null
          }
        },
        "aa560995266e49ffb72ed907af78460a": {
          "model_module": "@jupyter-widgets/controls",
          "model_name": "DescriptionStyleModel",
          "model_module_version": "1.5.0",
          "state": {
            "_model_module": "@jupyter-widgets/controls",
            "_model_module_version": "1.5.0",
            "_model_name": "DescriptionStyleModel",
            "_view_count": null,
            "_view_module": "@jupyter-widgets/base",
            "_view_module_version": "1.2.0",
            "_view_name": "StyleView",
            "description_width": ""
          }
        },
        "e464ce8ddfba43ba9f37fb98f293956b": {
          "model_module": "@jupyter-widgets/controls",
          "model_name": "HBoxModel",
          "model_module_version": "1.5.0",
          "state": {
            "_dom_classes": [],
            "_model_module": "@jupyter-widgets/controls",
            "_model_module_version": "1.5.0",
            "_model_name": "HBoxModel",
            "_view_count": null,
            "_view_module": "@jupyter-widgets/controls",
            "_view_module_version": "1.5.0",
            "_view_name": "HBoxView",
            "box_style": "",
            "children": [
              "IPY_MODEL_79049d17b2fd4658a397747662be9795",
              "IPY_MODEL_6338609e65f04d178b7eb34aeb598b4b",
              "IPY_MODEL_1fd1c13324d247679378677565e60b86"
            ],
            "layout": "IPY_MODEL_5e12f36f1f6746bb9fa766caf4bb46f2"
          }
        },
        "79049d17b2fd4658a397747662be9795": {
          "model_module": "@jupyter-widgets/controls",
          "model_name": "HTMLModel",
          "model_module_version": "1.5.0",
          "state": {
            "_dom_classes": [],
            "_model_module": "@jupyter-widgets/controls",
            "_model_module_version": "1.5.0",
            "_model_name": "HTMLModel",
            "_view_count": null,
            "_view_module": "@jupyter-widgets/controls",
            "_view_module_version": "1.5.0",
            "_view_name": "HTMLView",
            "description": "",
            "description_tooltip": null,
            "layout": "IPY_MODEL_4d685062a3d34d7691fb61d4f3509598",
            "placeholder": "​",
            "style": "IPY_MODEL_99a00caa7c09446892b76df7d7ff3e9a",
            "value": "Downloading (…)okenizer_config.json: 100%"
          }
        },
        "6338609e65f04d178b7eb34aeb598b4b": {
          "model_module": "@jupyter-widgets/controls",
          "model_name": "FloatProgressModel",
          "model_module_version": "1.5.0",
          "state": {
            "_dom_classes": [],
            "_model_module": "@jupyter-widgets/controls",
            "_model_module_version": "1.5.0",
            "_model_name": "FloatProgressModel",
            "_view_count": null,
            "_view_module": "@jupyter-widgets/controls",
            "_view_module_version": "1.5.0",
            "_view_name": "ProgressView",
            "bar_style": "success",
            "description": "",
            "description_tooltip": null,
            "layout": "IPY_MODEL_6d315e20f99043f68f23b3e918f744b2",
            "max": 43,
            "min": 0,
            "orientation": "horizontal",
            "style": "IPY_MODEL_df0f870822f74257becbee915cb20232",
            "value": 43
          }
        },
        "1fd1c13324d247679378677565e60b86": {
          "model_module": "@jupyter-widgets/controls",
          "model_name": "HTMLModel",
          "model_module_version": "1.5.0",
          "state": {
            "_dom_classes": [],
            "_model_module": "@jupyter-widgets/controls",
            "_model_module_version": "1.5.0",
            "_model_name": "HTMLModel",
            "_view_count": null,
            "_view_module": "@jupyter-widgets/controls",
            "_view_module_version": "1.5.0",
            "_view_name": "HTMLView",
            "description": "",
            "description_tooltip": null,
            "layout": "IPY_MODEL_17454ef23422430db432bb11c7574f4f",
            "placeholder": "​",
            "style": "IPY_MODEL_8af00fb0bff3450097bb7ca158f98949",
            "value": " 43.0/43.0 [00:00&lt;00:00, 1.37kB/s]"
          }
        },
        "5e12f36f1f6746bb9fa766caf4bb46f2": {
          "model_module": "@jupyter-widgets/base",
          "model_name": "LayoutModel",
          "model_module_version": "1.2.0",
          "state": {
            "_model_module": "@jupyter-widgets/base",
            "_model_module_version": "1.2.0",
            "_model_name": "LayoutModel",
            "_view_count": null,
            "_view_module": "@jupyter-widgets/base",
            "_view_module_version": "1.2.0",
            "_view_name": "LayoutView",
            "align_content": null,
            "align_items": null,
            "align_self": null,
            "border": null,
            "bottom": null,
            "display": null,
            "flex": null,
            "flex_flow": null,
            "grid_area": null,
            "grid_auto_columns": null,
            "grid_auto_flow": null,
            "grid_auto_rows": null,
            "grid_column": null,
            "grid_gap": null,
            "grid_row": null,
            "grid_template_areas": null,
            "grid_template_columns": null,
            "grid_template_rows": null,
            "height": null,
            "justify_content": null,
            "justify_items": null,
            "left": null,
            "margin": null,
            "max_height": null,
            "max_width": null,
            "min_height": null,
            "min_width": null,
            "object_fit": null,
            "object_position": null,
            "order": null,
            "overflow": null,
            "overflow_x": null,
            "overflow_y": null,
            "padding": null,
            "right": null,
            "top": null,
            "visibility": null,
            "width": null
          }
        },
        "4d685062a3d34d7691fb61d4f3509598": {
          "model_module": "@jupyter-widgets/base",
          "model_name": "LayoutModel",
          "model_module_version": "1.2.0",
          "state": {
            "_model_module": "@jupyter-widgets/base",
            "_model_module_version": "1.2.0",
            "_model_name": "LayoutModel",
            "_view_count": null,
            "_view_module": "@jupyter-widgets/base",
            "_view_module_version": "1.2.0",
            "_view_name": "LayoutView",
            "align_content": null,
            "align_items": null,
            "align_self": null,
            "border": null,
            "bottom": null,
            "display": null,
            "flex": null,
            "flex_flow": null,
            "grid_area": null,
            "grid_auto_columns": null,
            "grid_auto_flow": null,
            "grid_auto_rows": null,
            "grid_column": null,
            "grid_gap": null,
            "grid_row": null,
            "grid_template_areas": null,
            "grid_template_columns": null,
            "grid_template_rows": null,
            "height": null,
            "justify_content": null,
            "justify_items": null,
            "left": null,
            "margin": null,
            "max_height": null,
            "max_width": null,
            "min_height": null,
            "min_width": null,
            "object_fit": null,
            "object_position": null,
            "order": null,
            "overflow": null,
            "overflow_x": null,
            "overflow_y": null,
            "padding": null,
            "right": null,
            "top": null,
            "visibility": null,
            "width": null
          }
        },
        "99a00caa7c09446892b76df7d7ff3e9a": {
          "model_module": "@jupyter-widgets/controls",
          "model_name": "DescriptionStyleModel",
          "model_module_version": "1.5.0",
          "state": {
            "_model_module": "@jupyter-widgets/controls",
            "_model_module_version": "1.5.0",
            "_model_name": "DescriptionStyleModel",
            "_view_count": null,
            "_view_module": "@jupyter-widgets/base",
            "_view_module_version": "1.2.0",
            "_view_name": "StyleView",
            "description_width": ""
          }
        },
        "6d315e20f99043f68f23b3e918f744b2": {
          "model_module": "@jupyter-widgets/base",
          "model_name": "LayoutModel",
          "model_module_version": "1.2.0",
          "state": {
            "_model_module": "@jupyter-widgets/base",
            "_model_module_version": "1.2.0",
            "_model_name": "LayoutModel",
            "_view_count": null,
            "_view_module": "@jupyter-widgets/base",
            "_view_module_version": "1.2.0",
            "_view_name": "LayoutView",
            "align_content": null,
            "align_items": null,
            "align_self": null,
            "border": null,
            "bottom": null,
            "display": null,
            "flex": null,
            "flex_flow": null,
            "grid_area": null,
            "grid_auto_columns": null,
            "grid_auto_flow": null,
            "grid_auto_rows": null,
            "grid_column": null,
            "grid_gap": null,
            "grid_row": null,
            "grid_template_areas": null,
            "grid_template_columns": null,
            "grid_template_rows": null,
            "height": null,
            "justify_content": null,
            "justify_items": null,
            "left": null,
            "margin": null,
            "max_height": null,
            "max_width": null,
            "min_height": null,
            "min_width": null,
            "object_fit": null,
            "object_position": null,
            "order": null,
            "overflow": null,
            "overflow_x": null,
            "overflow_y": null,
            "padding": null,
            "right": null,
            "top": null,
            "visibility": null,
            "width": null
          }
        },
        "df0f870822f74257becbee915cb20232": {
          "model_module": "@jupyter-widgets/controls",
          "model_name": "ProgressStyleModel",
          "model_module_version": "1.5.0",
          "state": {
            "_model_module": "@jupyter-widgets/controls",
            "_model_module_version": "1.5.0",
            "_model_name": "ProgressStyleModel",
            "_view_count": null,
            "_view_module": "@jupyter-widgets/base",
            "_view_module_version": "1.2.0",
            "_view_name": "StyleView",
            "bar_color": null,
            "description_width": ""
          }
        },
        "17454ef23422430db432bb11c7574f4f": {
          "model_module": "@jupyter-widgets/base",
          "model_name": "LayoutModel",
          "model_module_version": "1.2.0",
          "state": {
            "_model_module": "@jupyter-widgets/base",
            "_model_module_version": "1.2.0",
            "_model_name": "LayoutModel",
            "_view_count": null,
            "_view_module": "@jupyter-widgets/base",
            "_view_module_version": "1.2.0",
            "_view_name": "LayoutView",
            "align_content": null,
            "align_items": null,
            "align_self": null,
            "border": null,
            "bottom": null,
            "display": null,
            "flex": null,
            "flex_flow": null,
            "grid_area": null,
            "grid_auto_columns": null,
            "grid_auto_flow": null,
            "grid_auto_rows": null,
            "grid_column": null,
            "grid_gap": null,
            "grid_row": null,
            "grid_template_areas": null,
            "grid_template_columns": null,
            "grid_template_rows": null,
            "height": null,
            "justify_content": null,
            "justify_items": null,
            "left": null,
            "margin": null,
            "max_height": null,
            "max_width": null,
            "min_height": null,
            "min_width": null,
            "object_fit": null,
            "object_position": null,
            "order": null,
            "overflow": null,
            "overflow_x": null,
            "overflow_y": null,
            "padding": null,
            "right": null,
            "top": null,
            "visibility": null,
            "width": null
          }
        },
        "8af00fb0bff3450097bb7ca158f98949": {
          "model_module": "@jupyter-widgets/controls",
          "model_name": "DescriptionStyleModel",
          "model_module_version": "1.5.0",
          "state": {
            "_model_module": "@jupyter-widgets/controls",
            "_model_module_version": "1.5.0",
            "_model_name": "DescriptionStyleModel",
            "_view_count": null,
            "_view_module": "@jupyter-widgets/base",
            "_view_module_version": "1.2.0",
            "_view_name": "StyleView",
            "description_width": ""
          }
        },
        "a0f06ed930d74017aee4a8aa9a546358": {
          "model_module": "@jupyter-widgets/controls",
          "model_name": "HBoxModel",
          "model_module_version": "1.5.0",
          "state": {
            "_dom_classes": [],
            "_model_module": "@jupyter-widgets/controls",
            "_model_module_version": "1.5.0",
            "_model_name": "HBoxModel",
            "_view_count": null,
            "_view_module": "@jupyter-widgets/controls",
            "_view_module_version": "1.5.0",
            "_view_name": "HBoxView",
            "box_style": "",
            "children": [
              "IPY_MODEL_7d8170aeedb24335bd2479940c60f843",
              "IPY_MODEL_e6571d50a5654a6bb567e30486f89446",
              "IPY_MODEL_d33e7083ff3543d3af65be79dcf79db3"
            ],
            "layout": "IPY_MODEL_02e37355524a42d29226c3bf3de1f8e0"
          }
        },
        "7d8170aeedb24335bd2479940c60f843": {
          "model_module": "@jupyter-widgets/controls",
          "model_name": "HTMLModel",
          "model_module_version": "1.5.0",
          "state": {
            "_dom_classes": [],
            "_model_module": "@jupyter-widgets/controls",
            "_model_module_version": "1.5.0",
            "_model_name": "HTMLModel",
            "_view_count": null,
            "_view_module": "@jupyter-widgets/controls",
            "_view_module_version": "1.5.0",
            "_view_name": "HTMLView",
            "description": "",
            "description_tooltip": null,
            "layout": "IPY_MODEL_78bd6b161fae40239074962809f34388",
            "placeholder": "​",
            "style": "IPY_MODEL_24df30a7a1d342c79e2cf1ff007d511f",
            "value": "Downloading (…)solve/main/vocab.txt: 100%"
          }
        },
        "e6571d50a5654a6bb567e30486f89446": {
          "model_module": "@jupyter-widgets/controls",
          "model_name": "FloatProgressModel",
          "model_module_version": "1.5.0",
          "state": {
            "_dom_classes": [],
            "_model_module": "@jupyter-widgets/controls",
            "_model_module_version": "1.5.0",
            "_model_name": "FloatProgressModel",
            "_view_count": null,
            "_view_module": "@jupyter-widgets/controls",
            "_view_module_version": "1.5.0",
            "_view_name": "ProgressView",
            "bar_style": "success",
            "description": "",
            "description_tooltip": null,
            "layout": "IPY_MODEL_c513012c78824ea1911b7704aa27d784",
            "max": 209528,
            "min": 0,
            "orientation": "horizontal",
            "style": "IPY_MODEL_06a6c5b245c7484fb9be3b0c128d5a57",
            "value": 209528
          }
        },
        "d33e7083ff3543d3af65be79dcf79db3": {
          "model_module": "@jupyter-widgets/controls",
          "model_name": "HTMLModel",
          "model_module_version": "1.5.0",
          "state": {
            "_dom_classes": [],
            "_model_module": "@jupyter-widgets/controls",
            "_model_module_version": "1.5.0",
            "_model_name": "HTMLModel",
            "_view_count": null,
            "_view_module": "@jupyter-widgets/controls",
            "_view_module_version": "1.5.0",
            "_view_name": "HTMLView",
            "description": "",
            "description_tooltip": null,
            "layout": "IPY_MODEL_390973fd38254795b69c2f737daa61f5",
            "placeholder": "​",
            "style": "IPY_MODEL_de1c3f38590145e0a460c4db30628d2c",
            "value": " 210k/210k [00:00&lt;00:00, 2.32MB/s]"
          }
        },
        "02e37355524a42d29226c3bf3de1f8e0": {
          "model_module": "@jupyter-widgets/base",
          "model_name": "LayoutModel",
          "model_module_version": "1.2.0",
          "state": {
            "_model_module": "@jupyter-widgets/base",
            "_model_module_version": "1.2.0",
            "_model_name": "LayoutModel",
            "_view_count": null,
            "_view_module": "@jupyter-widgets/base",
            "_view_module_version": "1.2.0",
            "_view_name": "LayoutView",
            "align_content": null,
            "align_items": null,
            "align_self": null,
            "border": null,
            "bottom": null,
            "display": null,
            "flex": null,
            "flex_flow": null,
            "grid_area": null,
            "grid_auto_columns": null,
            "grid_auto_flow": null,
            "grid_auto_rows": null,
            "grid_column": null,
            "grid_gap": null,
            "grid_row": null,
            "grid_template_areas": null,
            "grid_template_columns": null,
            "grid_template_rows": null,
            "height": null,
            "justify_content": null,
            "justify_items": null,
            "left": null,
            "margin": null,
            "max_height": null,
            "max_width": null,
            "min_height": null,
            "min_width": null,
            "object_fit": null,
            "object_position": null,
            "order": null,
            "overflow": null,
            "overflow_x": null,
            "overflow_y": null,
            "padding": null,
            "right": null,
            "top": null,
            "visibility": null,
            "width": null
          }
        },
        "78bd6b161fae40239074962809f34388": {
          "model_module": "@jupyter-widgets/base",
          "model_name": "LayoutModel",
          "model_module_version": "1.2.0",
          "state": {
            "_model_module": "@jupyter-widgets/base",
            "_model_module_version": "1.2.0",
            "_model_name": "LayoutModel",
            "_view_count": null,
            "_view_module": "@jupyter-widgets/base",
            "_view_module_version": "1.2.0",
            "_view_name": "LayoutView",
            "align_content": null,
            "align_items": null,
            "align_self": null,
            "border": null,
            "bottom": null,
            "display": null,
            "flex": null,
            "flex_flow": null,
            "grid_area": null,
            "grid_auto_columns": null,
            "grid_auto_flow": null,
            "grid_auto_rows": null,
            "grid_column": null,
            "grid_gap": null,
            "grid_row": null,
            "grid_template_areas": null,
            "grid_template_columns": null,
            "grid_template_rows": null,
            "height": null,
            "justify_content": null,
            "justify_items": null,
            "left": null,
            "margin": null,
            "max_height": null,
            "max_width": null,
            "min_height": null,
            "min_width": null,
            "object_fit": null,
            "object_position": null,
            "order": null,
            "overflow": null,
            "overflow_x": null,
            "overflow_y": null,
            "padding": null,
            "right": null,
            "top": null,
            "visibility": null,
            "width": null
          }
        },
        "24df30a7a1d342c79e2cf1ff007d511f": {
          "model_module": "@jupyter-widgets/controls",
          "model_name": "DescriptionStyleModel",
          "model_module_version": "1.5.0",
          "state": {
            "_model_module": "@jupyter-widgets/controls",
            "_model_module_version": "1.5.0",
            "_model_name": "DescriptionStyleModel",
            "_view_count": null,
            "_view_module": "@jupyter-widgets/base",
            "_view_module_version": "1.2.0",
            "_view_name": "StyleView",
            "description_width": ""
          }
        },
        "c513012c78824ea1911b7704aa27d784": {
          "model_module": "@jupyter-widgets/base",
          "model_name": "LayoutModel",
          "model_module_version": "1.2.0",
          "state": {
            "_model_module": "@jupyter-widgets/base",
            "_model_module_version": "1.2.0",
            "_model_name": "LayoutModel",
            "_view_count": null,
            "_view_module": "@jupyter-widgets/base",
            "_view_module_version": "1.2.0",
            "_view_name": "LayoutView",
            "align_content": null,
            "align_items": null,
            "align_self": null,
            "border": null,
            "bottom": null,
            "display": null,
            "flex": null,
            "flex_flow": null,
            "grid_area": null,
            "grid_auto_columns": null,
            "grid_auto_flow": null,
            "grid_auto_rows": null,
            "grid_column": null,
            "grid_gap": null,
            "grid_row": null,
            "grid_template_areas": null,
            "grid_template_columns": null,
            "grid_template_rows": null,
            "height": null,
            "justify_content": null,
            "justify_items": null,
            "left": null,
            "margin": null,
            "max_height": null,
            "max_width": null,
            "min_height": null,
            "min_width": null,
            "object_fit": null,
            "object_position": null,
            "order": null,
            "overflow": null,
            "overflow_x": null,
            "overflow_y": null,
            "padding": null,
            "right": null,
            "top": null,
            "visibility": null,
            "width": null
          }
        },
        "06a6c5b245c7484fb9be3b0c128d5a57": {
          "model_module": "@jupyter-widgets/controls",
          "model_name": "ProgressStyleModel",
          "model_module_version": "1.5.0",
          "state": {
            "_model_module": "@jupyter-widgets/controls",
            "_model_module_version": "1.5.0",
            "_model_name": "ProgressStyleModel",
            "_view_count": null,
            "_view_module": "@jupyter-widgets/base",
            "_view_module_version": "1.2.0",
            "_view_name": "StyleView",
            "bar_color": null,
            "description_width": ""
          }
        },
        "390973fd38254795b69c2f737daa61f5": {
          "model_module": "@jupyter-widgets/base",
          "model_name": "LayoutModel",
          "model_module_version": "1.2.0",
          "state": {
            "_model_module": "@jupyter-widgets/base",
            "_model_module_version": "1.2.0",
            "_model_name": "LayoutModel",
            "_view_count": null,
            "_view_module": "@jupyter-widgets/base",
            "_view_module_version": "1.2.0",
            "_view_name": "LayoutView",
            "align_content": null,
            "align_items": null,
            "align_self": null,
            "border": null,
            "bottom": null,
            "display": null,
            "flex": null,
            "flex_flow": null,
            "grid_area": null,
            "grid_auto_columns": null,
            "grid_auto_flow": null,
            "grid_auto_rows": null,
            "grid_column": null,
            "grid_gap": null,
            "grid_row": null,
            "grid_template_areas": null,
            "grid_template_columns": null,
            "grid_template_rows": null,
            "height": null,
            "justify_content": null,
            "justify_items": null,
            "left": null,
            "margin": null,
            "max_height": null,
            "max_width": null,
            "min_height": null,
            "min_width": null,
            "object_fit": null,
            "object_position": null,
            "order": null,
            "overflow": null,
            "overflow_x": null,
            "overflow_y": null,
            "padding": null,
            "right": null,
            "top": null,
            "visibility": null,
            "width": null
          }
        },
        "de1c3f38590145e0a460c4db30628d2c": {
          "model_module": "@jupyter-widgets/controls",
          "model_name": "DescriptionStyleModel",
          "model_module_version": "1.5.0",
          "state": {
            "_model_module": "@jupyter-widgets/controls",
            "_model_module_version": "1.5.0",
            "_model_name": "DescriptionStyleModel",
            "_view_count": null,
            "_view_module": "@jupyter-widgets/base",
            "_view_module_version": "1.2.0",
            "_view_name": "StyleView",
            "description_width": ""
          }
        },
        "bb1f05f9c707401cadc9d4ed580f51cd": {
          "model_module": "@jupyter-widgets/controls",
          "model_name": "HBoxModel",
          "model_module_version": "1.5.0",
          "state": {
            "_dom_classes": [],
            "_model_module": "@jupyter-widgets/controls",
            "_model_module_version": "1.5.0",
            "_model_name": "HBoxModel",
            "_view_count": null,
            "_view_module": "@jupyter-widgets/controls",
            "_view_module_version": "1.5.0",
            "_view_name": "HBoxView",
            "box_style": "",
            "children": [
              "IPY_MODEL_052f9aa50f4749178baf1cf49c426939",
              "IPY_MODEL_177e724877364ea68db83c09e704042f",
              "IPY_MODEL_6efa868d2cc449239b89afc55156d50b"
            ],
            "layout": "IPY_MODEL_06676567ceb346f88f9896069b902571"
          }
        },
        "052f9aa50f4749178baf1cf49c426939": {
          "model_module": "@jupyter-widgets/controls",
          "model_name": "HTMLModel",
          "model_module_version": "1.5.0",
          "state": {
            "_dom_classes": [],
            "_model_module": "@jupyter-widgets/controls",
            "_model_module_version": "1.5.0",
            "_model_name": "HTMLModel",
            "_view_count": null,
            "_view_module": "@jupyter-widgets/controls",
            "_view_module_version": "1.5.0",
            "_view_name": "HTMLView",
            "description": "",
            "description_tooltip": null,
            "layout": "IPY_MODEL_2837f3e74acd42c189733bb0764d8640",
            "placeholder": "​",
            "style": "IPY_MODEL_076fd559cd8d4060a92452fc4af05563",
            "value": "Downloading (…)in/added_tokens.json: 100%"
          }
        },
        "177e724877364ea68db83c09e704042f": {
          "model_module": "@jupyter-widgets/controls",
          "model_name": "FloatProgressModel",
          "model_module_version": "1.5.0",
          "state": {
            "_dom_classes": [],
            "_model_module": "@jupyter-widgets/controls",
            "_model_module_version": "1.5.0",
            "_model_name": "FloatProgressModel",
            "_view_count": null,
            "_view_module": "@jupyter-widgets/controls",
            "_view_module_version": "1.5.0",
            "_view_name": "ProgressView",
            "bar_style": "success",
            "description": "",
            "description_tooltip": null,
            "layout": "IPY_MODEL_b19a39330add42fbabd5db49195da399",
            "max": 2,
            "min": 0,
            "orientation": "horizontal",
            "style": "IPY_MODEL_0a5adb57432e4f939c0ee8ca8281e43c",
            "value": 2
          }
        },
        "6efa868d2cc449239b89afc55156d50b": {
          "model_module": "@jupyter-widgets/controls",
          "model_name": "HTMLModel",
          "model_module_version": "1.5.0",
          "state": {
            "_dom_classes": [],
            "_model_module": "@jupyter-widgets/controls",
            "_model_module_version": "1.5.0",
            "_model_name": "HTMLModel",
            "_view_count": null,
            "_view_module": "@jupyter-widgets/controls",
            "_view_module_version": "1.5.0",
            "_view_name": "HTMLView",
            "description": "",
            "description_tooltip": null,
            "layout": "IPY_MODEL_40b812b7e54848eaab51e2bb2b9831e7",
            "placeholder": "​",
            "style": "IPY_MODEL_4767287b4b5a40e89242078d44d01c86",
            "value": " 2.00/2.00 [00:00&lt;00:00, 50.6B/s]"
          }
        },
        "06676567ceb346f88f9896069b902571": {
          "model_module": "@jupyter-widgets/base",
          "model_name": "LayoutModel",
          "model_module_version": "1.2.0",
          "state": {
            "_model_module": "@jupyter-widgets/base",
            "_model_module_version": "1.2.0",
            "_model_name": "LayoutModel",
            "_view_count": null,
            "_view_module": "@jupyter-widgets/base",
            "_view_module_version": "1.2.0",
            "_view_name": "LayoutView",
            "align_content": null,
            "align_items": null,
            "align_self": null,
            "border": null,
            "bottom": null,
            "display": null,
            "flex": null,
            "flex_flow": null,
            "grid_area": null,
            "grid_auto_columns": null,
            "grid_auto_flow": null,
            "grid_auto_rows": null,
            "grid_column": null,
            "grid_gap": null,
            "grid_row": null,
            "grid_template_areas": null,
            "grid_template_columns": null,
            "grid_template_rows": null,
            "height": null,
            "justify_content": null,
            "justify_items": null,
            "left": null,
            "margin": null,
            "max_height": null,
            "max_width": null,
            "min_height": null,
            "min_width": null,
            "object_fit": null,
            "object_position": null,
            "order": null,
            "overflow": null,
            "overflow_x": null,
            "overflow_y": null,
            "padding": null,
            "right": null,
            "top": null,
            "visibility": null,
            "width": null
          }
        },
        "2837f3e74acd42c189733bb0764d8640": {
          "model_module": "@jupyter-widgets/base",
          "model_name": "LayoutModel",
          "model_module_version": "1.2.0",
          "state": {
            "_model_module": "@jupyter-widgets/base",
            "_model_module_version": "1.2.0",
            "_model_name": "LayoutModel",
            "_view_count": null,
            "_view_module": "@jupyter-widgets/base",
            "_view_module_version": "1.2.0",
            "_view_name": "LayoutView",
            "align_content": null,
            "align_items": null,
            "align_self": null,
            "border": null,
            "bottom": null,
            "display": null,
            "flex": null,
            "flex_flow": null,
            "grid_area": null,
            "grid_auto_columns": null,
            "grid_auto_flow": null,
            "grid_auto_rows": null,
            "grid_column": null,
            "grid_gap": null,
            "grid_row": null,
            "grid_template_areas": null,
            "grid_template_columns": null,
            "grid_template_rows": null,
            "height": null,
            "justify_content": null,
            "justify_items": null,
            "left": null,
            "margin": null,
            "max_height": null,
            "max_width": null,
            "min_height": null,
            "min_width": null,
            "object_fit": null,
            "object_position": null,
            "order": null,
            "overflow": null,
            "overflow_x": null,
            "overflow_y": null,
            "padding": null,
            "right": null,
            "top": null,
            "visibility": null,
            "width": null
          }
        },
        "076fd559cd8d4060a92452fc4af05563": {
          "model_module": "@jupyter-widgets/controls",
          "model_name": "DescriptionStyleModel",
          "model_module_version": "1.5.0",
          "state": {
            "_model_module": "@jupyter-widgets/controls",
            "_model_module_version": "1.5.0",
            "_model_name": "DescriptionStyleModel",
            "_view_count": null,
            "_view_module": "@jupyter-widgets/base",
            "_view_module_version": "1.2.0",
            "_view_name": "StyleView",
            "description_width": ""
          }
        },
        "b19a39330add42fbabd5db49195da399": {
          "model_module": "@jupyter-widgets/base",
          "model_name": "LayoutModel",
          "model_module_version": "1.2.0",
          "state": {
            "_model_module": "@jupyter-widgets/base",
            "_model_module_version": "1.2.0",
            "_model_name": "LayoutModel",
            "_view_count": null,
            "_view_module": "@jupyter-widgets/base",
            "_view_module_version": "1.2.0",
            "_view_name": "LayoutView",
            "align_content": null,
            "align_items": null,
            "align_self": null,
            "border": null,
            "bottom": null,
            "display": null,
            "flex": null,
            "flex_flow": null,
            "grid_area": null,
            "grid_auto_columns": null,
            "grid_auto_flow": null,
            "grid_auto_rows": null,
            "grid_column": null,
            "grid_gap": null,
            "grid_row": null,
            "grid_template_areas": null,
            "grid_template_columns": null,
            "grid_template_rows": null,
            "height": null,
            "justify_content": null,
            "justify_items": null,
            "left": null,
            "margin": null,
            "max_height": null,
            "max_width": null,
            "min_height": null,
            "min_width": null,
            "object_fit": null,
            "object_position": null,
            "order": null,
            "overflow": null,
            "overflow_x": null,
            "overflow_y": null,
            "padding": null,
            "right": null,
            "top": null,
            "visibility": null,
            "width": null
          }
        },
        "0a5adb57432e4f939c0ee8ca8281e43c": {
          "model_module": "@jupyter-widgets/controls",
          "model_name": "ProgressStyleModel",
          "model_module_version": "1.5.0",
          "state": {
            "_model_module": "@jupyter-widgets/controls",
            "_model_module_version": "1.5.0",
            "_model_name": "ProgressStyleModel",
            "_view_count": null,
            "_view_module": "@jupyter-widgets/base",
            "_view_module_version": "1.2.0",
            "_view_name": "StyleView",
            "bar_color": null,
            "description_width": ""
          }
        },
        "40b812b7e54848eaab51e2bb2b9831e7": {
          "model_module": "@jupyter-widgets/base",
          "model_name": "LayoutModel",
          "model_module_version": "1.2.0",
          "state": {
            "_model_module": "@jupyter-widgets/base",
            "_model_module_version": "1.2.0",
            "_model_name": "LayoutModel",
            "_view_count": null,
            "_view_module": "@jupyter-widgets/base",
            "_view_module_version": "1.2.0",
            "_view_name": "LayoutView",
            "align_content": null,
            "align_items": null,
            "align_self": null,
            "border": null,
            "bottom": null,
            "display": null,
            "flex": null,
            "flex_flow": null,
            "grid_area": null,
            "grid_auto_columns": null,
            "grid_auto_flow": null,
            "grid_auto_rows": null,
            "grid_column": null,
            "grid_gap": null,
            "grid_row": null,
            "grid_template_areas": null,
            "grid_template_columns": null,
            "grid_template_rows": null,
            "height": null,
            "justify_content": null,
            "justify_items": null,
            "left": null,
            "margin": null,
            "max_height": null,
            "max_width": null,
            "min_height": null,
            "min_width": null,
            "object_fit": null,
            "object_position": null,
            "order": null,
            "overflow": null,
            "overflow_x": null,
            "overflow_y": null,
            "padding": null,
            "right": null,
            "top": null,
            "visibility": null,
            "width": null
          }
        },
        "4767287b4b5a40e89242078d44d01c86": {
          "model_module": "@jupyter-widgets/controls",
          "model_name": "DescriptionStyleModel",
          "model_module_version": "1.5.0",
          "state": {
            "_model_module": "@jupyter-widgets/controls",
            "_model_module_version": "1.5.0",
            "_model_name": "DescriptionStyleModel",
            "_view_count": null,
            "_view_module": "@jupyter-widgets/base",
            "_view_module_version": "1.2.0",
            "_view_name": "StyleView",
            "description_width": ""
          }
        },
        "206a4509a67d4feebb7697ac4830b277": {
          "model_module": "@jupyter-widgets/controls",
          "model_name": "HBoxModel",
          "model_module_version": "1.5.0",
          "state": {
            "_dom_classes": [],
            "_model_module": "@jupyter-widgets/controls",
            "_model_module_version": "1.5.0",
            "_model_name": "HBoxModel",
            "_view_count": null,
            "_view_module": "@jupyter-widgets/controls",
            "_view_module_version": "1.5.0",
            "_view_name": "HBoxView",
            "box_style": "",
            "children": [
              "IPY_MODEL_26645a25c2024db4be25cbb14c6b2104",
              "IPY_MODEL_64d3bb14be014a4ea71c7462a577d2fa",
              "IPY_MODEL_f9719bdb1cf3469096a285bdcfa281d4"
            ],
            "layout": "IPY_MODEL_05110a19b96f465bbc27615710cb1202"
          }
        },
        "26645a25c2024db4be25cbb14c6b2104": {
          "model_module": "@jupyter-widgets/controls",
          "model_name": "HTMLModel",
          "model_module_version": "1.5.0",
          "state": {
            "_dom_classes": [],
            "_model_module": "@jupyter-widgets/controls",
            "_model_module_version": "1.5.0",
            "_model_name": "HTMLModel",
            "_view_count": null,
            "_view_module": "@jupyter-widgets/controls",
            "_view_module_version": "1.5.0",
            "_view_name": "HTMLView",
            "description": "",
            "description_tooltip": null,
            "layout": "IPY_MODEL_3d0ca2235e4e44caaf43ce538debdfdd",
            "placeholder": "​",
            "style": "IPY_MODEL_81455fcc383b4a3cb105500c7c3158f5",
            "value": "Downloading (…)cial_tokens_map.json: 100%"
          }
        },
        "64d3bb14be014a4ea71c7462a577d2fa": {
          "model_module": "@jupyter-widgets/controls",
          "model_name": "FloatProgressModel",
          "model_module_version": "1.5.0",
          "state": {
            "_dom_classes": [],
            "_model_module": "@jupyter-widgets/controls",
            "_model_module_version": "1.5.0",
            "_model_name": "FloatProgressModel",
            "_view_count": null,
            "_view_module": "@jupyter-widgets/controls",
            "_view_module_version": "1.5.0",
            "_view_name": "ProgressView",
            "bar_style": "success",
            "description": "",
            "description_tooltip": null,
            "layout": "IPY_MODEL_ea0cb7c799124d80b109429799d841af",
            "max": 112,
            "min": 0,
            "orientation": "horizontal",
            "style": "IPY_MODEL_231a33089fc443a59b40fa5d438401de",
            "value": 112
          }
        },
        "f9719bdb1cf3469096a285bdcfa281d4": {
          "model_module": "@jupyter-widgets/controls",
          "model_name": "HTMLModel",
          "model_module_version": "1.5.0",
          "state": {
            "_dom_classes": [],
            "_model_module": "@jupyter-widgets/controls",
            "_model_module_version": "1.5.0",
            "_model_name": "HTMLModel",
            "_view_count": null,
            "_view_module": "@jupyter-widgets/controls",
            "_view_module_version": "1.5.0",
            "_view_name": "HTMLView",
            "description": "",
            "description_tooltip": null,
            "layout": "IPY_MODEL_452c68e1c08342bfa00910a719a9a2c8",
            "placeholder": "​",
            "style": "IPY_MODEL_c9a44c539ba64a5b8c03d9b62f01b304",
            "value": " 112/112 [00:00&lt;00:00, 2.62kB/s]"
          }
        },
        "05110a19b96f465bbc27615710cb1202": {
          "model_module": "@jupyter-widgets/base",
          "model_name": "LayoutModel",
          "model_module_version": "1.2.0",
          "state": {
            "_model_module": "@jupyter-widgets/base",
            "_model_module_version": "1.2.0",
            "_model_name": "LayoutModel",
            "_view_count": null,
            "_view_module": "@jupyter-widgets/base",
            "_view_module_version": "1.2.0",
            "_view_name": "LayoutView",
            "align_content": null,
            "align_items": null,
            "align_self": null,
            "border": null,
            "bottom": null,
            "display": null,
            "flex": null,
            "flex_flow": null,
            "grid_area": null,
            "grid_auto_columns": null,
            "grid_auto_flow": null,
            "grid_auto_rows": null,
            "grid_column": null,
            "grid_gap": null,
            "grid_row": null,
            "grid_template_areas": null,
            "grid_template_columns": null,
            "grid_template_rows": null,
            "height": null,
            "justify_content": null,
            "justify_items": null,
            "left": null,
            "margin": null,
            "max_height": null,
            "max_width": null,
            "min_height": null,
            "min_width": null,
            "object_fit": null,
            "object_position": null,
            "order": null,
            "overflow": null,
            "overflow_x": null,
            "overflow_y": null,
            "padding": null,
            "right": null,
            "top": null,
            "visibility": null,
            "width": null
          }
        },
        "3d0ca2235e4e44caaf43ce538debdfdd": {
          "model_module": "@jupyter-widgets/base",
          "model_name": "LayoutModel",
          "model_module_version": "1.2.0",
          "state": {
            "_model_module": "@jupyter-widgets/base",
            "_model_module_version": "1.2.0",
            "_model_name": "LayoutModel",
            "_view_count": null,
            "_view_module": "@jupyter-widgets/base",
            "_view_module_version": "1.2.0",
            "_view_name": "LayoutView",
            "align_content": null,
            "align_items": null,
            "align_self": null,
            "border": null,
            "bottom": null,
            "display": null,
            "flex": null,
            "flex_flow": null,
            "grid_area": null,
            "grid_auto_columns": null,
            "grid_auto_flow": null,
            "grid_auto_rows": null,
            "grid_column": null,
            "grid_gap": null,
            "grid_row": null,
            "grid_template_areas": null,
            "grid_template_columns": null,
            "grid_template_rows": null,
            "height": null,
            "justify_content": null,
            "justify_items": null,
            "left": null,
            "margin": null,
            "max_height": null,
            "max_width": null,
            "min_height": null,
            "min_width": null,
            "object_fit": null,
            "object_position": null,
            "order": null,
            "overflow": null,
            "overflow_x": null,
            "overflow_y": null,
            "padding": null,
            "right": null,
            "top": null,
            "visibility": null,
            "width": null
          }
        },
        "81455fcc383b4a3cb105500c7c3158f5": {
          "model_module": "@jupyter-widgets/controls",
          "model_name": "DescriptionStyleModel",
          "model_module_version": "1.5.0",
          "state": {
            "_model_module": "@jupyter-widgets/controls",
            "_model_module_version": "1.5.0",
            "_model_name": "DescriptionStyleModel",
            "_view_count": null,
            "_view_module": "@jupyter-widgets/base",
            "_view_module_version": "1.2.0",
            "_view_name": "StyleView",
            "description_width": ""
          }
        },
        "ea0cb7c799124d80b109429799d841af": {
          "model_module": "@jupyter-widgets/base",
          "model_name": "LayoutModel",
          "model_module_version": "1.2.0",
          "state": {
            "_model_module": "@jupyter-widgets/base",
            "_model_module_version": "1.2.0",
            "_model_name": "LayoutModel",
            "_view_count": null,
            "_view_module": "@jupyter-widgets/base",
            "_view_module_version": "1.2.0",
            "_view_name": "LayoutView",
            "align_content": null,
            "align_items": null,
            "align_self": null,
            "border": null,
            "bottom": null,
            "display": null,
            "flex": null,
            "flex_flow": null,
            "grid_area": null,
            "grid_auto_columns": null,
            "grid_auto_flow": null,
            "grid_auto_rows": null,
            "grid_column": null,
            "grid_gap": null,
            "grid_row": null,
            "grid_template_areas": null,
            "grid_template_columns": null,
            "grid_template_rows": null,
            "height": null,
            "justify_content": null,
            "justify_items": null,
            "left": null,
            "margin": null,
            "max_height": null,
            "max_width": null,
            "min_height": null,
            "min_width": null,
            "object_fit": null,
            "object_position": null,
            "order": null,
            "overflow": null,
            "overflow_x": null,
            "overflow_y": null,
            "padding": null,
            "right": null,
            "top": null,
            "visibility": null,
            "width": null
          }
        },
        "231a33089fc443a59b40fa5d438401de": {
          "model_module": "@jupyter-widgets/controls",
          "model_name": "ProgressStyleModel",
          "model_module_version": "1.5.0",
          "state": {
            "_model_module": "@jupyter-widgets/controls",
            "_model_module_version": "1.5.0",
            "_model_name": "ProgressStyleModel",
            "_view_count": null,
            "_view_module": "@jupyter-widgets/base",
            "_view_module_version": "1.2.0",
            "_view_name": "StyleView",
            "bar_color": null,
            "description_width": ""
          }
        },
        "452c68e1c08342bfa00910a719a9a2c8": {
          "model_module": "@jupyter-widgets/base",
          "model_name": "LayoutModel",
          "model_module_version": "1.2.0",
          "state": {
            "_model_module": "@jupyter-widgets/base",
            "_model_module_version": "1.2.0",
            "_model_name": "LayoutModel",
            "_view_count": null,
            "_view_module": "@jupyter-widgets/base",
            "_view_module_version": "1.2.0",
            "_view_name": "LayoutView",
            "align_content": null,
            "align_items": null,
            "align_self": null,
            "border": null,
            "bottom": null,
            "display": null,
            "flex": null,
            "flex_flow": null,
            "grid_area": null,
            "grid_auto_columns": null,
            "grid_auto_flow": null,
            "grid_auto_rows": null,
            "grid_column": null,
            "grid_gap": null,
            "grid_row": null,
            "grid_template_areas": null,
            "grid_template_columns": null,
            "grid_template_rows": null,
            "height": null,
            "justify_content": null,
            "justify_items": null,
            "left": null,
            "margin": null,
            "max_height": null,
            "max_width": null,
            "min_height": null,
            "min_width": null,
            "object_fit": null,
            "object_position": null,
            "order": null,
            "overflow": null,
            "overflow_x": null,
            "overflow_y": null,
            "padding": null,
            "right": null,
            "top": null,
            "visibility": null,
            "width": null
          }
        },
        "c9a44c539ba64a5b8c03d9b62f01b304": {
          "model_module": "@jupyter-widgets/controls",
          "model_name": "DescriptionStyleModel",
          "model_module_version": "1.5.0",
          "state": {
            "_model_module": "@jupyter-widgets/controls",
            "_model_module_version": "1.5.0",
            "_model_name": "DescriptionStyleModel",
            "_view_count": null,
            "_view_module": "@jupyter-widgets/base",
            "_view_module_version": "1.2.0",
            "_view_name": "StyleView",
            "description_width": ""
          }
        }
      }
    }
  },
  "nbformat": 4,
  "nbformat_minor": 0
}